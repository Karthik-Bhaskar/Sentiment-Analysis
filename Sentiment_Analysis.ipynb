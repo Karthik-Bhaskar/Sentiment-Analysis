{
  "nbformat": 4,
  "nbformat_minor": 0,
  "metadata": {
    "cite2c": {
      "citations": {
        "7971447/2EP5P4QP": {
          "id": "7971447/2EP5P4QP",
          "title": "wvSent_acl2011.bib",
          "type": "article"
        }
      }
    },
    "colab": {
      "name": "Sentiment Analysis-new.ipynb",
      "provenance": [],
      "toc_visible": true
    },
    "kernelspec": {
      "display_name": "Python 3",
      "language": "python",
      "name": "python3"
    },
    "language_info": {
      "codemirror_mode": {
        "name": "ipython",
        "version": 3
      },
      "file_extension": ".py",
      "mimetype": "text/x-python",
      "name": "python",
      "nbconvert_exporter": "python",
      "pygments_lexer": "ipython3",
      "version": "3.7.7"
    }
  },
  "cells": [
    {
      "cell_type": "markdown",
      "metadata": {
        "id": "NiU07mzh6tfd",
        "colab_type": "text"
      },
      "source": [
        "[![Open In Colab](https://colab.research.google.com/assets/colab-badge.svg)](https://colab.research.google.com/github/Karthik-Bhaskar/Sentiment-Analysis/blob/master/Sentiment_Analysis.ipynb#scrollTo=NiU07mzh6tfd)\n"
      ]
    },
    {
      "cell_type": "markdown",
      "metadata": {
        "colab_type": "text",
        "id": "6Gc-nsKPMXbf"
      },
      "source": [
        "### Sentiment Analysis on IMDB Dataset Using Word Embeddings "
      ]
    },
    {
      "cell_type": "markdown",
      "metadata": {
        "colab_type": "text",
        "id": "wSXINwrrMXbh"
      },
      "source": [
        "**Dataset: IMDB movies review dataset, containing binary classes of Positive and Negative sentiments about the movies**\n",
        "\n",
        "**Problem Statement: Binary Classification on Sentiments**"
      ]
    },
    {
      "cell_type": "markdown",
      "metadata": {
        "colab_type": "text",
        "id": "MiSwN0DWMXbk"
      },
      "source": [
        "Let's get started by importing the required libraries"
      ]
    },
    {
      "cell_type": "code",
      "metadata": {
        "colab_type": "code",
        "id": "1APodJ6OMXbl",
        "scrolled": true,
        "colab": {
          "base_uri": "https://localhost:8080/",
          "height": 170
        },
        "outputId": "da096b7b-7ed3-41c0-f3bc-6c62a3f25aff"
      },
      "source": [
        "\n",
        "import sys\n",
        "import os\n",
        "import re\n",
        "import pickle\n",
        "import random\n",
        "import pandas as pd\n",
        "import numpy as np\n",
        "\n",
        "from sklearn.feature_extraction.text import TfidfVectorizer\n",
        "from sklearn.metrics import classification_report, accuracy_score, plot_confusion_matrix\n",
        "from sklearn.linear_model import LogisticRegression\n",
        "from sklearn.svm import SVC\n",
        "from sklearn.model_selection import KFold,train_test_split,GridSearchCV\n",
        "from sklearn.feature_extraction.text import CountVectorizer\n",
        "from sklearn.metrics import roc_curve, roc_auc_score\n",
        "\n",
        "import matplotlib.pyplot as plt\n",
        "import matplotlib.colors as pltc\n",
        "\n",
        "from wordcloud import WordCloud\n",
        "from PIL import Image\n",
        "\n",
        "\n",
        "import gensim\n",
        "from gensim.models import Word2Vec, KeyedVectors\n",
        "from collections import Counter, defaultdict\n",
        "from tqdm import tqdm\n",
        "\n",
        "\n",
        "# For Preprocessing and nlp \n",
        "import nltk\n",
        "from bs4 import BeautifulSoup\n",
        "from nltk.tokenize.toktok import ToktokTokenizer\n",
        "tokenizer = ToktokTokenizer()\n",
        "nltk.download('stopwords')\n",
        "stopword_list = nltk.corpus.stopwords.words('english')\n",
        "stopword_list.remove('no')\n",
        "stopword_list.remove('not')\n",
        "import unicodedata\n",
        "nltk.download('wordnet')\n",
        "nltk.download('punkt')\n",
        "nltk.download('averaged_perceptron_tagger')\n",
        "from nltk.corpus import wordnet\n",
        "nltk_lemmatizer = nltk.stem.WordNetLemmatizer()\n",
        "\n",
        "\n",
        "\n",
        "\n"
      ],
      "execution_count": null,
      "outputs": [
        {
          "output_type": "stream",
          "text": [
            "[nltk_data] Downloading package stopwords to\n",
            "[nltk_data]     /Users/karthik/nltk_data...\n",
            "[nltk_data]   Package stopwords is already up-to-date!\n",
            "[nltk_data] Downloading package wordnet to /Users/karthik/nltk_data...\n",
            "[nltk_data]   Package wordnet is already up-to-date!\n",
            "[nltk_data] Downloading package punkt to /Users/karthik/nltk_data...\n",
            "[nltk_data]   Package punkt is already up-to-date!\n",
            "[nltk_data] Downloading package averaged_perceptron_tagger to\n",
            "[nltk_data]     /Users/karthik/nltk_data...\n",
            "[nltk_data]   Package averaged_perceptron_tagger is already up-to-\n",
            "[nltk_data]       date!\n"
          ],
          "name": "stderr"
        }
      ]
    },
    {
      "cell_type": "markdown",
      "metadata": {
        "colab_type": "text",
        "id": "K5Hy9Tu5MXb1"
      },
      "source": [
        "#### Data Import"
      ]
    },
    {
      "cell_type": "code",
      "metadata": {
        "colab_type": "code",
        "id": "3JC4oYDxMXb4",
        "colab": {
          "base_uri": "https://localhost:8080/",
          "height": 34
        },
        "outputId": "d5b634f3-94e4-4571-cc02-a04255ecee9b"
      },
      "source": [
        "def load_data(filename,no_of_records):\n",
        "    process_records = True\n",
        "    data_load = pd.read_csv(filename)\n",
        "    if filename == \"processed.csv\":\n",
        "        process_records = False\n",
        "        data_load = data_load.drop(columns=['Unnamed: 0'])\n",
        "    data_load= data_load[0:no_of_records]\n",
        "    return data_load,process_records\n",
        "\n",
        "# Original dataset - IMDB Dataset.csv\n",
        "# Pre-processed dataset - processed.csv\n",
        "\n",
        "\n",
        "\n",
        "data_orig,process_records = load_data('IMDB Dataset.csv',50000)\n",
        "print(\"Dataset shape:\",data_orig.shape)\n",
        "\n"
      ],
      "execution_count": null,
      "outputs": [
        {
          "output_type": "stream",
          "text": [
            "Dataset shape: (50000, 2)\n"
          ],
          "name": "stdout"
        }
      ]
    },
    {
      "cell_type": "code",
      "metadata": {
        "colab_type": "code",
        "id": "8ODW2jOJMXb_",
        "colab": {
          "base_uri": "https://localhost:8080/",
          "height": 204
        },
        "outputId": "0d0d9a5d-f574-4cab-c65b-69add6444c21"
      },
      "source": [
        "data_orig.head()"
      ],
      "execution_count": null,
      "outputs": [
        {
          "output_type": "execute_result",
          "data": {
            "text/html": [
              "<div>\n",
              "<style scoped>\n",
              "    .dataframe tbody tr th:only-of-type {\n",
              "        vertical-align: middle;\n",
              "    }\n",
              "\n",
              "    .dataframe tbody tr th {\n",
              "        vertical-align: top;\n",
              "    }\n",
              "\n",
              "    .dataframe thead th {\n",
              "        text-align: right;\n",
              "    }\n",
              "</style>\n",
              "<table border=\"1\" class=\"dataframe\">\n",
              "  <thead>\n",
              "    <tr style=\"text-align: right;\">\n",
              "      <th></th>\n",
              "      <th>review</th>\n",
              "      <th>sentiment</th>\n",
              "    </tr>\n",
              "  </thead>\n",
              "  <tbody>\n",
              "    <tr>\n",
              "      <th>0</th>\n",
              "      <td>One of the other reviewers has mentioned that ...</td>\n",
              "      <td>positive</td>\n",
              "    </tr>\n",
              "    <tr>\n",
              "      <th>1</th>\n",
              "      <td>A wonderful little production. &lt;br /&gt;&lt;br /&gt;The...</td>\n",
              "      <td>positive</td>\n",
              "    </tr>\n",
              "    <tr>\n",
              "      <th>2</th>\n",
              "      <td>I thought this was a wonderful way to spend ti...</td>\n",
              "      <td>positive</td>\n",
              "    </tr>\n",
              "    <tr>\n",
              "      <th>3</th>\n",
              "      <td>Basically there's a family where a little boy ...</td>\n",
              "      <td>negative</td>\n",
              "    </tr>\n",
              "    <tr>\n",
              "      <th>4</th>\n",
              "      <td>Petter Mattei's \"Love in the Time of Money\" is...</td>\n",
              "      <td>positive</td>\n",
              "    </tr>\n",
              "  </tbody>\n",
              "</table>\n",
              "</div>"
            ],
            "text/plain": [
              "                                              review sentiment\n",
              "0  One of the other reviewers has mentioned that ...  positive\n",
              "1  A wonderful little production. <br /><br />The...  positive\n",
              "2  I thought this was a wonderful way to spend ti...  positive\n",
              "3  Basically there's a family where a little boy ...  negative\n",
              "4  Petter Mattei's \"Love in the Time of Money\" is...  positive"
            ]
          },
          "metadata": {
            "tags": []
          },
          "execution_count": 3
        }
      ]
    },
    {
      "cell_type": "code",
      "metadata": {
        "colab_type": "code",
        "id": "3_RfQKRzMXcG",
        "colab": {
          "base_uri": "https://localhost:8080/",
          "height": 265
        },
        "outputId": "7674b7e5-b2a5-4c04-df98-50813931cb51"
      },
      "source": [
        "def class_div(data):\n",
        "    data_orig['sentiment'] = data\n",
        "    if process_records == False:\n",
        "        pos = 1\n",
        "        neg = 0\n",
        "\n",
        "    else:\n",
        "        pos = 'positive'\n",
        "        neg = 'negative'\n",
        "\n",
        "\n",
        "    total_counts = data_orig['sentiment'].value_counts().to_dict()\n",
        "    print(total_counts)\n",
        "\n",
        "    pos_percent = round((total_counts[pos]/data_orig.shape[0])*100,2)\n",
        "    neg_percent = round((total_counts[neg]/data_orig.shape[0])*100,2)\n",
        "\n",
        "    labels = 'Positive', 'Negative'\n",
        "    sizes = [pos_percent,neg_percent]\n",
        "    explode = (0.1, 0) \n",
        "    fig1, ax1 = plt.subplots()\n",
        "    ax1.pie(sizes, explode=explode, labels=labels, autopct='%1.2f%%',\n",
        "            shadow=True, startangle=90)\n",
        "    ax1.axis('equal')  \n",
        "\n",
        "    plt.show()\n",
        "    \n",
        "    return\n",
        "\n",
        "class_div(data_orig['sentiment'])"
      ],
      "execution_count": null,
      "outputs": [
        {
          "output_type": "stream",
          "text": [
            "{'positive': 25000, 'negative': 25000}\n"
          ],
          "name": "stdout"
        },
        {
          "output_type": "display_data",
          "data": {
            "image/png": "[encoded data removed]",
            "text/plain": [
              "<Figure size 432x288 with 1 Axes>"
            ]
          },
          "metadata": {
            "tags": []
          }
        }
      ]
    },
    {
      "cell_type": "markdown",
      "metadata": {
        "colab_type": "text",
        "id": "cRqqQ1X8MXcO"
      },
      "source": [
        "let's review a sample."
      ]
    },
    {
      "cell_type": "code",
      "metadata": {
        "colab_type": "code",
        "id": "MV8hsUZZMXcP",
        "colab": {
          "base_uri": "https://localhost:8080/",
          "height": 54
        },
        "outputId": "66e953db-7058-43d0-8689-e833ff1c9185"
      },
      "source": [
        "data_orig['review'].iloc[0]"
      ],
      "execution_count": null,
      "outputs": [
        {
          "output_type": "execute_result",
          "data": {
            "text/plain": [
              "\"One of the other reviewers has mentioned that after watching just 1 Oz episode you'll be hooked. They are right, as this is exactly what happened with me.<br /><br />The first thing that struck me about Oz was its brutality and unflinching scenes of violence, which set in right from the word GO. Trust me, this is not a show for the faint hearted or timid. This show pulls no punches with regards to drugs, sex or violence. Its is hardcore, in the classic use of the word.<br /><br />It is called OZ as that is the nickname given to the Oswald Maximum Security State Penitentary. It focuses mainly on Emerald City, an experimental section of the prison where all the cells have glass fronts and face inwards, so privacy is not high on the agenda. Em City is home to many..Aryans, Muslims, gangstas, Latinos, Christians, Italians, Irish and more....so scuffles, death stares, dodgy dealings and shady agreements are never far away.<br /><br />I would say the main appeal of the show is due to the fact that it goes where other shows wouldn't dare. Forget pretty pictures painted for mainstream audiences, forget charm, forget romance...OZ doesn't mess around. The first episode I ever saw struck me as so nasty it was surreal, I couldn't say I was ready for it, but as I watched more, I developed a taste for Oz, and got accustomed to the high levels of graphic violence. Not just violence, but injustice (crooked guards who'll be sold out for a nickel, inmates who'll kill on order and get away with it, well mannered, middle class inmates being turned into prison bitches due to their lack of street skills or prison experience) Watching Oz, you may become comfortable with what is uncomfortable viewing....thats if you can get in touch with your darker side.\""
            ]
          },
          "metadata": {
            "tags": []
          },
          "execution_count": 5
        }
      ]
    },
    {
      "cell_type": "code",
      "metadata": {
        "colab_type": "code",
        "id": "udgZVNynMXcR",
        "colab": {
          "base_uri": "https://localhost:8080/",
          "height": 34
        },
        "outputId": "263361a6-50b1-42e6-8b9f-b718df8fa67f"
      },
      "source": [
        "data_orig['sentiment'].iloc[0]"
      ],
      "execution_count": null,
      "outputs": [
        {
          "output_type": "execute_result",
          "data": {
            "text/plain": [
              "'positive'"
            ]
          },
          "metadata": {
            "tags": []
          },
          "execution_count": 6
        }
      ]
    },
    {
      "cell_type": "markdown",
      "metadata": {
        "colab_type": "text",
        "id": "cMjHVPBQMXcV"
      },
      "source": [
        "As we can see in the review text sample there are HTML tags, special characters, Un-even textcases in-between. So, text pre-processing is performed in order to make the text look more presentable and clean as it  helps in maining the vocabulary size."
      ]
    },
    {
      "cell_type": "markdown",
      "metadata": {
        "colab_type": "text",
        "id": "w_zwtzueMXcV"
      },
      "source": [
        "#### Text Pre-processing\n",
        "\n",
        "The main pre-processing done here are,\n",
        "1. Striping the in-between html tags\n",
        "2. Getting rid of underscores and white spaces\n",
        "3. Making the text look uniform by converting to lower case, which also helps in reducing vocabulary size\n",
        "4. Converting the accented characters to normal characters (Example: Café -> Cafe)\n",
        "5. Removing special characters and numbers\n",
        "6. Stop word removal as it does not help much in our analysis\n",
        "7. Lemmatizing in-order to obtain lemma from the text (Example: Mice -> Mouse)\n",
        "8. Converting the the textual categories to numerical categories (Positive -> 1, Negative -> 0)\n",
        "\n",
        "And the list does not end here, other text pre-processing can be done (Example: Spell Correction) and some of these pre-processing can also be performed using sklearn, textblob."
      ]
    },
    {
      "cell_type": "code",
      "metadata": {
        "colab_type": "code",
        "id": "yAJl8j5RMXcW",
        "colab": {
          "base_uri": "https://localhost:8080/",
          "height": 34
        },
        "outputId": "8e455240-c01d-4626-da83-60d8b185bbf6"
      },
      "source": [
        "\n",
        "def strip_html_tags(text):\n",
        "    soup = BeautifulSoup(text, \"html.parser\")\n",
        "    stripped_text = soup.get_text()\n",
        "    return stripped_text\n",
        "\n",
        "def remove_underscore(text):\n",
        "    text = text.replace(\"_\",\" \")\n",
        "    return text\n",
        "\n",
        "def remove_white_spaces(text):\n",
        "    text = \" \".join(text.split())\n",
        "    return text\n",
        "\n",
        "def to_lower_case(text):\n",
        "    text = text.lower()\n",
        "    return text\n",
        "\n",
        "def remove_accented_chars(text):\n",
        "    text = unicodedata.normalize('NFKD', text).encode('ascii', 'ignore').decode('utf-8', 'ignore')\n",
        "    return text\n",
        "\n",
        "# Removes Numbers\n",
        "def remove_special_characters(text, remove_digits=False):\n",
        "    pattern = r'[^a-zA-z0-9\\s]' if not remove_digits else r'[^a-zA-z\\s]'\n",
        "    text = re.sub(pattern, '', text)\n",
        "    return text\n",
        "\n",
        "\n",
        "def stop_word_remover(text):\n",
        "    tokens = tokenizer.tokenize(text)\n",
        "    filtered_sentence = []\n",
        "    for token in tokens: \n",
        "        if token not in stopword_list: \n",
        "            filtered_sentence.append(token)\n",
        "            \n",
        "    return \" \".join(filtered_sentence)\n",
        "\n",
        "def get_wordnet_pos(word):\n",
        "    \"\"\"Map POS tag to first character lemmatize() accepts\"\"\"\n",
        "    tag = nltk.pos_tag([word])[0][1][0].upper()\n",
        "    tag_dict = {\"J\": wordnet.ADJ,\n",
        "                \"N\": wordnet.NOUN,\n",
        "                \"V\": wordnet.VERB,\n",
        "                \"R\": wordnet.ADV}\n",
        "    return tag_dict.get(tag, wordnet.NOUN)\n",
        "\n",
        "def lemmatize_text(text):\n",
        "    tokens = nltk.word_tokenize(text)\n",
        "    lemmatized_output = ' '.join([nltk_lemmatizer.lemmatize(token,get_wordnet_pos(token)) for token in tokens])\n",
        "    return lemmatized_output\n",
        "\n",
        "def pre_process(text):\n",
        "    text = strip_html_tags(text)\n",
        "    text = remove_underscore(text)\n",
        "    text = remove_white_spaces(text)\n",
        "    text = to_lower_case(text)\n",
        "    text = remove_accented_chars(text)\n",
        "    text = remove_special_characters(text, remove_digits=True)\n",
        "    text = stop_word_remover(text)\n",
        "    text = lemmatize_text(text)\n",
        "    return text\n",
        "\n",
        "def start_pre_process():\n",
        "    data_proc = data_orig\n",
        "    if process_records == True:\n",
        "        for i in tqdm(range(len(data_orig['review']))):\n",
        "            data_proc['review'].iloc[i] = pre_process(data_orig['review'].iloc[i])\n",
        "            if data_orig['sentiment'].iloc[i] == 'positive':\n",
        "                data_proc['sentiment'].iloc[i] = 1\n",
        "            else:\n",
        "                data_proc['sentiment'].iloc[i] = 0   \n",
        "\n",
        "        data_proc.to_csv('processed.csv')\n",
        "    return data_proc\n",
        "\n",
        "data_proc = start_pre_process()\n",
        "process_records = False"
      ],
      "execution_count": null,
      "outputs": [
        {
          "output_type": "stream",
          "text": [
            "100%|██████████| 50000/50000 [19:14<00:00, 43.30it/s]\n"
          ],
          "name": "stderr"
        }
      ]
    },
    {
      "cell_type": "markdown",
      "metadata": {
        "colab_type": "text",
        "id": "t6O_q744MXcZ"
      },
      "source": [
        "After pre-processing. The samples looks like this,"
      ]
    },
    {
      "cell_type": "code",
      "metadata": {
        "colab_type": "code",
        "id": "lebYnr6WMXca",
        "colab": {
          "base_uri": "https://localhost:8080/",
          "height": 54
        },
        "outputId": "0d1a968e-81f2-4364-9a99-80b2b63bbe97"
      },
      "source": [
        "data_proc['review'].iloc[0]"
      ],
      "execution_count": null,
      "outputs": [
        {
          "output_type": "execute_result",
          "data": {
            "text/plain": [
              "'one reviewer mention watch oz episode youll hooked right exactly happen methe first thing struck oz brutality unflinching scene violence set right word go trust not show faint hearted timid show pull no punch regard drug sex violence hardcore classic use wordit call oz nickname give oswald maximum security state penitentary focus mainly emerald city experimental section prison cell glass front face inwards privacy not high agenda em city home manyaryans muslim gangsta latino christian italian irish moreso scuffle death stare dodgy dealing shady agreement never far awayi would say main appeal show due fact go show wouldnt dare forget pretty picture paint mainstream audience forget charm forget romanceoz doesnt mess around first episode ever saw struck nasty surreal couldnt say ready watch developed taste oz get accustom high level graphic violence not violence injustice crooked guard wholl sell nickel inmate wholl kill order get away well mannered middle class inmate turn prison bitch due lack street skill prison experience watch oz may become comfortable uncomfortable viewingthats get touch darker side'"
            ]
          },
          "metadata": {
            "tags": []
          },
          "execution_count": 8
        }
      ]
    },
    {
      "cell_type": "code",
      "metadata": {
        "colab_type": "code",
        "id": "TVd3Aw9BMXcd",
        "colab": {
          "base_uri": "https://localhost:8080/",
          "height": 34
        },
        "outputId": "e50d6fe9-b9a3-4980-ce45-0e2e73353467"
      },
      "source": [
        "data_proc['sentiment'].iloc[0]"
      ],
      "execution_count": null,
      "outputs": [
        {
          "output_type": "execute_result",
          "data": {
            "text/plain": [
              "1"
            ]
          },
          "metadata": {
            "tags": []
          },
          "execution_count": 9
        }
      ]
    },
    {
      "cell_type": "code",
      "metadata": {
        "colab_type": "code",
        "id": "a7Hw5Nw3MXcf",
        "colab": {
          "base_uri": "https://localhost:8080/",
          "height": 282
        },
        "outputId": "8f288604-dafe-422f-b7c2-73203a27f16c"
      },
      "source": [
        "def split_data():\n",
        "    data_proc['sentiment']=data_proc['sentiment'].astype('int')\n",
        "    X_train,X_test,y_train,y_test = train_test_split(data_proc['review'],data_proc['sentiment'] ,random_state=42,test_size=0.2)\n",
        "    return X_train,X_test,y_train,y_test\n",
        "\n",
        "X_train,X_test,y_train,y_test = split_data()\n",
        "\n",
        "print(\"Train set class division\")\n",
        "class_div(y_train)"
      ],
      "execution_count": null,
      "outputs": [
        {
          "output_type": "stream",
          "text": [
            "Train set class division\n",
            "{0.0: 20039, 1.0: 19961}\n"
          ],
          "name": "stdout"
        },
        {
          "output_type": "display_data",
          "data": {
            "image/png": "[encoded data removed]",
            "text/plain": [
              "<Figure size 432x288 with 1 Axes>"
            ]
          },
          "metadata": {
            "tags": []
          }
        }
      ]
    },
    {
      "cell_type": "markdown",
      "metadata": {
        "colab_type": "text",
        "id": "BTNd9wWiMXcq"
      },
      "source": [
        "Let's see which are the most repeated words in the corpus"
      ]
    },
    {
      "cell_type": "code",
      "metadata": {
        "colab_type": "code",
        "id": "C9St90DSMXcr",
        "colab": {
          "base_uri": "https://localhost:8080/",
          "height": 232
        },
        "outputId": "a0a58ad0-8e2e-4f76-e021-c36ab808c09b"
      },
      "source": [
        "\n",
        "corpus = X_train\n",
        "vec = CountVectorizer().fit(corpus)\n",
        "bag_of_words = vec.transform(corpus)\n",
        "sum_words = bag_of_words.sum(axis=0) \n",
        "words_freq = [(word, sum_words[0, idx]) for word, idx in     vec.vocabulary_.items()]\n",
        "words_freq =sorted(words_freq, key = lambda x: x[1], reverse=True)\n",
        "words_freq[:10]\n"
      ],
      "execution_count": null,
      "outputs": [
        {
          "output_type": "execute_result",
          "data": {
            "text/plain": [
              "[('movie', 79096),\n",
              " ('film', 73614),\n",
              " ('not', 49439),\n",
              " ('one', 42232),\n",
              " ('make', 35221),\n",
              " ('like', 34321),\n",
              " ('see', 32672),\n",
              " ('get', 27788),\n",
              " ('well', 23784),\n",
              " ('time', 23565)]"
            ]
          },
          "metadata": {
            "tags": []
          },
          "execution_count": 11
        }
      ]
    },
    {
      "cell_type": "code",
      "metadata": {
        "colab_type": "code",
        "id": "FU34tzV3MXct",
        "colab": {
          "base_uri": "https://localhost:8080/",
          "height": 248
        },
        "outputId": "b55fdba2-7ac2-4ccc-8974-2d5e820a2c9b"
      },
      "source": [
        "w = WordCloud(width=800,height=700,mode='RGBA',background_color='black',max_words=2000).fit_words(dict(words_freq))\n",
        "plt.imshow(w)\n",
        "plt.axis(\"off\")\n",
        "plt.show()"
      ],
      "execution_count": null,
      "outputs": [
        {
          "output_type": "display_data",
          "data": {
            "image/png": "[encoded data removed]",
            "text/plain": [
              "<Figure size 432x288 with 1 Axes>"
            ]
          },
          "metadata": {
            "tags": [],
            "needs_background": "light"
          }
        }
      ]
    },
    {
      "cell_type": "markdown",
      "metadata": {
        "colab_type": "text",
        "id": "r0sC45P2MXcu"
      },
      "source": [
        "The next step in the process is to convert the textual data to vectorized numerical format. So we can train a model. \n",
        "\n",
        "To achieve this I will use Word Embeddings learned using Word2Vec.\n",
        "\n",
        "\n",
        "\n",
        "\n",
        "\n",
        "\n"
      ]
    },
    {
      "cell_type": "markdown",
      "metadata": {
        "colab_type": "text",
        "id": "CxKsgVrcMXc0"
      },
      "source": [
        "#### Word Embeddings\n",
        "\n",
        "\n",
        "<blockquote> A word embedding is a learned representation for text where words that have the same meaning have a similar representation. Word embeddings are in fact a class of techniques where individual words are represented as real-valued vectors in a predefined vector space. Each word is mapped to one vector and the vector values are learned in a way that resembles a neural network, and hence the technique is often lumped into the field of deep learning. \n",
        "    \n",
        "\\- Jason Brownlee ([What Are Word Embeddings for Text?](https://machinelearningmastery.com/what-are-word-embeddings/))\n",
        "\n",
        "</blockquote>\n",
        "\n",
        "Word2Vec is an algorithm which is used to learn word embeddings. \n",
        "\n",
        "\n",
        "\n",
        "There are 2 learning methods in Word2Vec,\n",
        "<ul>\n",
        "    <li> Continuous Bag of words (CBOW) </li>\n",
        "    <li> Skip-gram </li>\n",
        "</ul>\n",
        "\n",
        "Here in Word2Vec approach, I will train a Word2Vec model using CBOW method on the IMDB dataset and also use the pretrained Word2Vec model from Google, trained on Google News. I will analyse the performance of the classifiers based on Word2Vec trained on IMDB dataset and Pre-trained Word2Vec \n",
        "\n",
        "Later, I will encode the features by the below 2 methods in order to train the classifier,\n",
        "<ul>\n",
        "    <li> Computing the mean of embeddings in a sentence </li>\n",
        "    <li> Computing TF-IDF of embeddings in a sentence </li>\n",
        "    \n",
        "</ul>\n",
        "\n",
        "TF-IDF tells us how important the word is in the particular document.\n",
        "\n",
        "\n",
        "The Formula for TF-IDF is,\n",
        "\n",
        "$$ Term\\;Frequency\\;(TF) = \\frac{ Number\\;of\\;times\\;particular\\;word\\;(W)\\;appeared\\;in\\;the\\;document}{Total\\;Number\\;words\\;in\\;that\\;document} $$ <br />\n",
        "\n",
        "$$ Inverse\\;Document\\;Frequency\\;(IDF)\\;=  \\log{\\frac{Number\\;of\\;documents\\;in\\;corpus}{Number\\;of\\;documents\\;in\\;which\\;the\\;particular\\;word\\;(W)\\;appeared}}$$ <br />\n",
        "\n",
        "$$ TFIDF\\;=TF * IDF $$\n",
        "\n",
        "\n",
        "\n",
        "In further section, I will show the difference between mean and tf-idf methods of feature encoding based on Word2Vec vocabulary.\n",
        "\n",
        "\n",
        "#### Word2Vec model trained on IMDB dataset using CBOW\n",
        "\n"
      ]
    },
    {
      "cell_type": "code",
      "metadata": {
        "colab_type": "code",
        "id": "2BmEvjXlMXc1",
        "colab": {}
      },
      "source": [
        "def train_w2v():\n",
        "    data_proc_w2v = []\n",
        "    for i in tqdm(range (0,len(X_train))):\n",
        "        data_proc_w2v.append(gensim.utils.simple_preprocess(X_train.iloc[i]))\n",
        "    print(\"Training Word2Vec model ..\")\n",
        "    model = gensim.models.Word2Vec (data_proc_w2v, size=300, window=10, min_count=2, workers=10)\n",
        "    model.train(data_proc_w2v,total_examples=len(data_proc_w2v),epochs=100)\n",
        "    w2v_vocab = model.wv.vocab\n",
        "    #model.save(\"word2vec.model\")\n",
        "    return data_proc_w2v,model,w2v_vocab\n",
        "\n"
      ],
      "execution_count": null,
      "outputs": []
    },
    {
      "cell_type": "code",
      "metadata": {
        "colab_type": "code",
        "id": "LJ3Rf4BlMXc3",
        "colab": {
          "base_uri": "https://localhost:8080/",
          "height": 51
        },
        "outputId": "4d604013-e5d9-4ce8-f69b-964fa939abcc"
      },
      "source": [
        "data_proc_w2v,model,w2v_vocab = train_w2v()\n",
        "\n"
      ],
      "execution_count": null,
      "outputs": [
        {
          "output_type": "stream",
          "text": [
            "100%|██████████| 40000/40000 [00:09<00:00, 4228.68it/s]\n"
          ],
          "name": "stderr"
        },
        {
          "output_type": "stream",
          "text": [
            "Training Word2Vec model ..\n"
          ],
          "name": "stdout"
        }
      ]
    },
    {
      "cell_type": "markdown",
      "metadata": {
        "colab_type": "text",
        "id": "QimplYt7MXc6"
      },
      "source": [
        "Let's see the vocabulary generated using Word2Vec"
      ]
    },
    {
      "cell_type": "code",
      "metadata": {
        "colab_type": "code",
        "id": "prZ8Wv3VMXc6",
        "scrolled": true,
        "colab": {
          "base_uri": "https://localhost:8080/",
          "height": 1000
        },
        "outputId": "30b39804-5b3d-46a3-e312-1e0229be8156"
      },
      "source": [
        "w2v_vocab"
      ],
      "execution_count": null,
      "outputs": [
        {
          "output_type": "execute_result",
          "data": {
            "text/plain": [
              "{'thats': <gensim.models.keyedvectors.Vocab at 0x13e9bec50>,\n",
              " 'kept': <gensim.models.keyedvectors.Vocab at 0x11e672290>,\n",
              " 'ask': <gensim.models.keyedvectors.Vocab at 0x13ec6a3d0>,\n",
              " 'many': <gensim.models.keyedvectors.Vocab at 0x13ec6a450>,\n",
              " 'fight': <gensim.models.keyedvectors.Vocab at 0x11da07690>,\n",
              " 'scream': <gensim.models.keyedvectors.Vocab at 0x11da072d0>,\n",
              " 'match': <gensim.models.keyedvectors.Vocab at 0x13ef52510>,\n",
              " 'swear': <gensim.models.keyedvectors.Vocab at 0x13ef52390>,\n",
              " 'general': <gensim.models.keyedvectors.Vocab at 0x13ec6a5d0>,\n",
              " 'mayhem': <gensim.models.keyedvectors.Vocab at 0x11da077d0>,\n",
              " 'permeate': <gensim.models.keyedvectors.Vocab at 0x13ef52450>,\n",
              " 'minute': <gensim.models.keyedvectors.Vocab at 0x13ef52490>,\n",
              " 'comparison': <gensim.models.keyedvectors.Vocab at 0x13ef524d0>,\n",
              " 'also': <gensim.models.keyedvectors.Vocab at 0x13ef52550>,\n",
              " 'stand': <gensim.models.keyedvectors.Vocab at 0x13ef52590>,\n",
              " 'think': <gensim.models.keyedvectors.Vocab at 0x13ef52610>,\n",
              " 'onedimensional': <gensim.models.keyedvectors.Vocab at 0x13ef52650>,\n",
              " 'character': <gensim.models.keyedvectors.Vocab at 0x13ef52690>,\n",
              " 'little': <gensim.models.keyedvectors.Vocab at 0x13ef526d0>,\n",
              " 'depth': <gensim.models.keyedvectors.Vocab at 0x13ef52710>,\n",
              " 'virtually': <gensim.models.keyedvectors.Vocab at 0x13ef52750>,\n",
              " 'impossible': <gensim.models.keyedvectors.Vocab at 0x13ef52790>,\n",
              " 'care': <gensim.models.keyedvectors.Vocab at 0x13ef527d0>,\n",
              " 'happens': <gensim.models.keyedvectors.Vocab at 0x13ef52810>,\n",
              " 'badly': <gensim.models.keyedvectors.Vocab at 0x13ef52850>,\n",
              " 'write': <gensim.models.keyedvectors.Vocab at 0x13ef52890>,\n",
              " 'cypher': <gensim.models.keyedvectors.Vocab at 0x13ef528d0>,\n",
              " 'director': <gensim.models.keyedvectors.Vocab at 0x13ef52910>,\n",
              " 'hang': <gensim.models.keyedvectors.Vocab at 0x13ef52950>,\n",
              " 'multicultural': <gensim.models.keyedvectors.Vocab at 0x13ef52990>,\n",
              " 'belief': <gensim.models.keyedvectors.Vocab at 0x13ef529d0>,\n",
              " 'topic': <gensim.models.keyedvectors.Vocab at 0x13ef52a10>,\n",
              " 'do': <gensim.models.keyedvectors.Vocab at 0x13ef52a50>,\n",
              " 'much': <gensim.models.keyedvectors.Vocab at 0x13ef52a90>,\n",
              " 'well': <gensim.models.keyedvectors.Vocab at 0x13ef52ad0>,\n",
              " 'drama': <gensim.models.keyedvectors.Vocab at 0x13ef52b10>,\n",
              " 'tv': <gensim.models.keyedvectors.Vocab at 0x13ef52b50>,\n",
              " 'cinemai': <gensim.models.keyedvectors.Vocab at 0x13ef52b90>,\n",
              " 'must': <gensim.models.keyedvectors.Vocab at 0x13ef52bd0>,\n",
              " 'confess': <gensim.models.keyedvectors.Vocab at 0x13ef52c10>,\n",
              " 'im': <gensim.models.keyedvectors.Vocab at 0x13ef52c50>,\n",
              " 'not': <gensim.models.keyedvectors.Vocab at 0x13ef52c90>,\n",
              " 'really': <gensim.models.keyedvectors.Vocab at 0x13ef52cd0>,\n",
              " 'one': <gensim.models.keyedvectors.Vocab at 0x13ef52d10>,\n",
              " 'spot': <gensim.models.keyedvectors.Vocab at 0x13ef52d50>,\n",
              " 'bad': <gensim.models.keyedvectors.Vocab at 0x13ef52d90>,\n",
              " 'performance': <gensim.models.keyedvectors.Vocab at 0x13ef52dd0>,\n",
              " 'film': <gensim.models.keyedvectors.Vocab at 0x13ef52e10>,\n",
              " 'say': <gensim.models.keyedvectors.Vocab at 0x13ef52e50>,\n",
              " 'burley': <gensim.models.keyedvectors.Vocab at 0x13ef52e90>,\n",
              " 'heroine': <gensim.models.keyedvectors.Vocab at 0x13ef52ed0>,\n",
              " 'slutty': <gensim.models.keyedvectors.Vocab at 0x13ef52f10>,\n",
              " 'best': <gensim.models.keyedvectors.Vocab at 0x13ef52f50>,\n",
              " 'friend': <gensim.models.keyedvectors.Vocab at 0x13ef52f90>,\n",
              " 'wasim': <gensim.models.keyedvectors.Vocab at 0x13ef52fd0>,\n",
              " 'zakir': <gensim.models.keyedvectors.Vocab at 0x13ef67050>,\n",
              " 'nasty': <gensim.models.keyedvectors.Vocab at 0x13ef67090>,\n",
              " 'bullying': <gensim.models.keyedvectors.Vocab at 0x13ef670d0>,\n",
              " 'brother': <gensim.models.keyedvectors.Vocab at 0x13ef67110>,\n",
              " 'absolutely': <gensim.models.keyedvectors.Vocab at 0x13ef67150>,\n",
              " 'terrible': <gensim.models.keyedvectors.Vocab at 0x13ef67190>,\n",
              " 'dont': <gensim.models.keyedvectors.Vocab at 0x13ef671d0>,\n",
              " 'know': <gensim.models.keyedvectors.Vocab at 0x13ef67210>,\n",
              " 'act': <gensim.models.keyedvectors.Vocab at 0x13ef67250>,\n",
              " 'school': <gensim.models.keyedvectors.Vocab at 0x13ef67290>,\n",
              " 'graduate': <gensim.models.keyedvectors.Vocab at 0x13ef672d0>,\n",
              " 'id': <gensim.models.keyedvectors.Vocab at 0x13ef67310>,\n",
              " 'apply': <gensim.models.keyedvectors.Vocab at 0x13ef67350>,\n",
              " 'full': <gensim.models.keyedvectors.Vocab at 0x13ef67390>,\n",
              " 'refund': <gensim.models.keyedvectors.Vocab at 0x13ef673d0>,\n",
              " 'post': <gensim.models.keyedvectors.Vocab at 0x13ef67410>,\n",
              " 'haste': <gensim.models.keyedvectors.Vocab at 0x13ef67450>,\n",
              " 'lead': <gensim.models.keyedvectors.Vocab at 0x13ef67490>,\n",
              " 'role': <gensim.models.keyedvectors.Vocab at 0x13ef674d0>,\n",
              " 'manages': <gensim.models.keyedvectors.Vocab at 0x13ef67510>,\n",
              " 'impress': <gensim.models.keyedvectors.Vocab at 0x13ef67550>,\n",
              " 'cast': <gensim.models.keyedvectors.Vocab at 0x13ef67590>,\n",
              " 'socalled': <gensim.models.keyedvectors.Vocab at 0x13ef675d0>,\n",
              " 'british': <gensim.models.keyedvectors.Vocab at 0x13ef67610>,\n",
              " 'talent': <gensim.models.keyedvectors.Vocab at 0x13ef67650>,\n",
              " 'probably': <gensim.models.keyedvectors.Vocab at 0x13ef67690>,\n",
              " 'never': <gensim.models.keyedvectors.Vocab at 0x13ef676d0>,\n",
              " 'hear': <gensim.models.keyedvectors.Vocab at 0x13ef67710>,\n",
              " 'least': <gensim.models.keyedvectors.Vocab at 0x13ef67750>,\n",
              " 'hope': <gensim.models.keyedvectors.Vocab at 0x13ef67790>,\n",
              " 'next': <gensim.models.keyedvectors.Vocab at 0x13ef677d0>,\n",
              " 'time': <gensim.models.keyedvectors.Vocab at 0x13ef67810>,\n",
              " 'hire': <gensim.models.keyedvectors.Vocab at 0x13ef67850>,\n",
              " 'different': <gensim.models.keyedvectors.Vocab at 0x13ef67890>,\n",
              " 'intrigue': <gensim.models.keyedvectors.Vocab at 0x13ef678d0>,\n",
              " 'thought': <gensim.models.keyedvectors.Vocab at 0x13ef67910>,\n",
              " 'hideously': <gensim.models.keyedvectors.Vocab at 0x13ef67950>,\n",
              " 'fashionable': <gensim.models.keyedvectors.Vocab at 0x13ef67990>,\n",
              " 'soundtrack': <gensim.models.keyedvectors.Vocab at 0x13ef679d0>,\n",
              " 'feature': <gensim.models.keyedvectors.Vocab at 0x13ef67a10>,\n",
              " 'like': <gensim.models.keyedvectors.Vocab at 0x13ef67a50>,\n",
              " 'snow': <gensim.models.keyedvectors.Vocab at 0x13ef67a90>,\n",
              " 'patrol': <gensim.models.keyedvectors.Vocab at 0x13ef67ad0>,\n",
              " 'ian': <gensim.models.keyedvectors.Vocab at 0x13ef67b10>,\n",
              " 'brown': <gensim.models.keyedvectors.Vocab at 0x13ef67b50>,\n",
              " 'keane': <gensim.models.keyedvectors.Vocab at 0x13ef67b90>,\n",
              " 'bit': <gensim.models.keyedvectors.Vocab at 0x13ef67bd0>,\n",
              " 'music': <gensim.models.keyedvectors.Vocab at 0x13ef67c10>,\n",
              " 'fan': <gensim.models.keyedvectors.Vocab at 0x13ef67c50>,\n",
              " 'familiar': <gensim.models.keyedvectors.Vocab at 0x13ef67c90>,\n",
              " 'artist': <gensim.models.keyedvectors.Vocab at 0x13ef67cd0>,\n",
              " 'output': <gensim.models.keyedvectors.Vocab at 0x13ef67d10>,\n",
              " 'didnt': <gensim.models.keyedvectors.Vocab at 0x13ef67d50>,\n",
              " 'recognise': <gensim.models.keyedvectors.Vocab at 0x13ef67d90>,\n",
              " 'track': <gensim.models.keyedvectors.Vocab at 0x13ef67dd0>,\n",
              " 'movie': <gensim.models.keyedvectors.Vocab at 0x13ef67e10>,\n",
              " 'apart': <gensim.models.keyedvectors.Vocab at 0x13ef67e50>,\n",
              " 'omnipresent': <gensim.models.keyedvectors.Vocab at 0x13ef67e90>,\n",
              " 'run': <gensim.models.keyedvectors.Vocab at 0x13ef67ed0>,\n",
              " 'anyone': <gensim.models.keyedvectors.Vocab at 0x13ef67f10>,\n",
              " 'get': <gensim.models.keyedvectors.Vocab at 0x13ef67f50>,\n",
              " 'musical': <gensim.models.keyedvectors.Vocab at 0x13ef67f90>,\n",
              " 'montage': <gensim.models.keyedvectors.Vocab at 0x13ef67fd0>,\n",
              " 'telegraph': <gensim.models.keyedvectors.Vocab at 0x13ef69050>,\n",
              " 'suppose': <gensim.models.keyedvectors.Vocab at 0x13ef69090>,\n",
              " 'feel': <gensim.models.keyedvectors.Vocab at 0x13ef690d0>,\n",
              " 'accompany': <gensim.models.keyedvectors.Vocab at 0x13ef69110>,\n",
              " 'startlingly': <gensim.models.keyedvectors.Vocab at 0x13ef69150>,\n",
              " 'original': <gensim.models.keyedvectors.Vocab at 0x13ef69190>,\n",
              " 'image': <gensim.models.keyedvectors.Vocab at 0x13ef691d0>,\n",
              " 'couple': <gensim.models.keyedvectors.Vocab at 0x13ef69210>,\n",
              " 'kiss': <gensim.models.keyedvectors.Vocab at 0x13ef69250>,\n",
              " 'swollen': <gensim.models.keyedvectors.Vocab at 0x13ef69290>,\n",
              " 'lake': <gensim.models.keyedvectors.Vocab at 0x13ef692d0>,\n",
              " 'canoodle': <gensim.models.keyedvectors.Vocab at 0x13ef69310>,\n",
              " 'doorway': <gensim.models.keyedvectors.Vocab at 0x13ef69350>,\n",
              " 'problem': <gensim.models.keyedvectors.Vocab at 0x13ef69390>,\n",
              " 'none': <gensim.models.keyedvectors.Vocab at 0x13ef693d0>,\n",
              " 'song': <gensim.models.keyedvectors.Vocab at 0x13ef69410>,\n",
              " 'convey': <gensim.models.keyedvectors.Vocab at 0x13ef69450>,\n",
              " 'mood': <gensim.models.keyedvectors.Vocab at 0x13ef69490>,\n",
              " 'efficiently': <gensim.models.keyedvectors.Vocab at 0x13ef694d0>,\n",
              " 'realise': <gensim.models.keyedvectors.Vocab at 0x13ef69510>,\n",
              " 'lack': <gensim.models.keyedvectors.Vocab at 0x13ef69550>,\n",
              " 'ability': <gensim.models.keyedvectors.Vocab at 0x13ef69590>,\n",
              " 'carry': <gensim.models.keyedvectors.Vocab at 0x13ef695d0>,\n",
              " 'emotional': <gensim.models.keyedvectors.Vocab at 0x13ef69610>,\n",
              " 'journey': <gensim.models.keyedvectors.Vocab at 0x13ef69650>,\n",
              " 'audience': <gensim.models.keyedvectors.Vocab at 0x13ef69690>,\n",
              " 'storytelling': <gensim.models.keyedvectors.Vocab at 0x13ef696d0>,\n",
              " 'dialogue': <gensim.models.keyedvectors.Vocab at 0x13ef69710>,\n",
              " 'alonethe': <gensim.models.keyedvectors.Vocab at 0x13ef69750>,\n",
              " 'end': <gensim.models.keyedvectors.Vocab at 0x13ef69790>,\n",
              " 'presumably': <gensim.models.keyedvectors.Vocab at 0x13ef697d0>,\n",
              " 'meant': <gensim.models.keyedvectors.Vocab at 0x13ef69810>,\n",
              " 'dessert': <gensim.models.keyedvectors.Vocab at 0x13ef69850>,\n",
              " 'everybody': <gensim.models.keyedvectors.Vocab at 0x13ef69890>,\n",
              " 'comeuppance': <gensim.models.keyedvectors.Vocab at 0x13ef698d0>,\n",
              " 'big': <gensim.models.keyedvectors.Vocab at 0x13ef69910>,\n",
              " 'shock': <gensim.models.keyedvectors.Vocab at 0x13ef69950>,\n",
              " 'store': <gensim.models.keyedvectors.Vocab at 0x13ef69990>,\n",
              " 'remain': <gensim.models.keyedvectors.Vocab at 0x13ef699d0>,\n",
              " 'resolutely': <gensim.models.keyedvectors.Vocab at 0x13ef69a10>,\n",
              " 'unmoved': <gensim.models.keyedvectors.Vocab at 0x13ef69a50>,\n",
              " 'script': <gensim.models.keyedvectors.Vocab at 0x13ef69a90>,\n",
              " 'give': <gensim.models.keyedvectors.Vocab at 0x13ef69ad0>,\n",
              " 'noone': <gensim.models.keyedvectors.Vocab at 0x13ef69b10>,\n",
              " 'root': <gensim.models.keyedvectors.Vocab at 0x13ef69b50>,\n",
              " 'enough': <gensim.models.keyedvectors.Vocab at 0x13ef69b90>,\n",
              " 'tackle': <gensim.models.keyedvectors.Vocab at 0x13ef69bd0>,\n",
              " 'hotbutton': <gensim.models.keyedvectors.Vocab at 0x13ef69c10>,\n",
              " 'issue': <gensim.models.keyedvectors.Vocab at 0x13ef69c50>,\n",
              " 'actually': <gensim.models.keyedvectors.Vocab at 0x13ef69c90>,\n",
              " 'plot': <gensim.models.keyedvectors.Vocab at 0x13ef69cd0>,\n",
              " 'hasnt': <gensim.models.keyedvectors.Vocab at 0x13ef69d10>,\n",
              " 'already': <gensim.models.keyedvectors.Vocab at 0x13ef69d50>,\n",
              " 'death': <gensim.models.keyedvectors.Vocab at 0x13ef69d90>,\n",
              " 'individual': <gensim.models.keyedvectors.Vocab at 0x13ef69dd0>,\n",
              " 'window': <gensim.models.keyedvectors.Vocab at 0x13ef69e10>,\n",
              " 'dress': <gensim.models.keyedvectors.Vocab at 0x13ef69e50>,\n",
              " 'noble': <gensim.models.keyedvectors.Vocab at 0x13ef69e90>,\n",
              " 'failure': <gensim.models.keyedvectors.Vocab at 0x13ef69ed0>,\n",
              " 'promising': <gensim.models.keyedvectors.Vocab at 0x13ef69f10>,\n",
              " 'actress': <gensim.models.keyedvectors.Vocab at 0x13ef69f50>,\n",
              " 'mildly': <gensim.models.keyedvectors.Vocab at 0x13ef69f90>,\n",
              " 'divert': <gensim.models.keyedvectors.Vocab at 0x13ef69fd0>,\n",
              " 'punchups': <gensim.models.keyedvectors.Vocab at 0x13ef6c050>,\n",
              " 'save': <gensim.models.keyedvectors.Vocab at 0x13ef6c090>,\n",
              " 'bin': <gensim.models.keyedvectors.Vocab at 0x13ef6c0d0>,\n",
              " 'try': <gensim.models.keyedvectors.Vocab at 0x13ef6c110>,\n",
              " 'harder': <gensim.models.keyedvectors.Vocab at 0x13ef6c150>,\n",
              " 'watch': <gensim.models.keyedvectors.Vocab at 0x13ef6c190>,\n",
              " 'entire': <gensim.models.keyedvectors.Vocab at 0x13ef6c1d0>,\n",
              " 'could': <gensim.models.keyedvectors.Vocab at 0x13ef6c210>,\n",
              " 'stop': <gensim.models.keyedvectors.Vocab at 0x13ef6c250>,\n",
              " 'dvd': <gensim.models.keyedvectors.Vocab at 0x13ef6c290>,\n",
              " 'half': <gensim.models.keyedvectors.Vocab at 0x13ef6c2d0>,\n",
              " 'hour': <gensim.models.keyedvectors.Vocab at 0x13ef6c310>,\n",
              " 'suggest': <gensim.models.keyedvectors.Vocab at 0x13ef6c350>,\n",
              " 'take': <gensim.models.keyedvectors.Vocab at 0x13ef6c390>,\n",
              " 'disc': <gensim.models.keyedvectors.Vocab at 0x13ef6c3d0>,\n",
              " 'casei': <gensim.models.keyedvectors.Vocab at 0x13ef6c410>,\n",
              " 'mafia': <gensim.models.keyedvectors.Vocab at 0x13ef6c450>,\n",
              " 'tragic': <gensim.models.keyedvectors.Vocab at 0x13ef6c490>,\n",
              " 'comic': <gensim.models.keyedvectors.Vocab at 0x13ef6c4d0>,\n",
              " 'corky': <gensim.models.keyedvectors.Vocab at 0x13ef6c510>,\n",
              " 'romano': <gensim.models.keyedvectors.Vocab at 0x13ef6c550>,\n",
              " 'described': <gensim.models.keyedvectors.Vocab at 0x13ef6c590>,\n",
              " 'attempt': <gensim.models.keyedvectors.Vocab at 0x13ef6c5d0>,\n",
              " 'comedythe': <gensim.models.keyedvectors.Vocab at 0x13ef6c610>,\n",
              " 'simply': <gensim.models.keyedvectors.Vocab at 0x13ef6c650>,\n",
              " 'hard': <gensim.models.keyedvectors.Vocab at 0x13ef6c690>,\n",
              " 'laugh': <gensim.models.keyedvectors.Vocab at 0x13ef6c6d0>,\n",
              " 'seem': <gensim.models.keyedvectors.Vocab at 0x13ef6c710>,\n",
              " 'excuse': <gensim.models.keyedvectors.Vocab at 0x13ef6c750>,\n",
              " 'move': <gensim.models.keyedvectors.Vocab at 0x13ef6c790>,\n",
              " 'chris': <gensim.models.keyedvectors.Vocab at 0x13ef6c7d0>,\n",
              " 'kattan': <gensim.models.keyedvectors.Vocab at 0x13ef6c810>,\n",
              " 'scene': <gensim.models.keyedvectors.Vocab at 0x13ef6c850>,\n",
              " 'another': <gensim.models.keyedvectors.Vocab at 0x13ef6c890>,\n",
              " 'completely': <gensim.models.keyedvectors.Vocab at 0x13ef6c8d0>,\n",
              " 'overplayed': <gensim.models.keyedvectors.Vocab at 0x13ef6c910>,\n",
              " 'subtlety': <gensim.models.keyedvectors.Vocab at 0x13ef6c950>,\n",
              " 'credulity': <gensim.models.keyedvectors.Vocab at 0x13ef6c990>,\n",
              " 'strange': <gensim.models.keyedvectors.Vocab at 0x13ef6c9d0>,\n",
              " 'mannerism': <gensim.models.keyedvectors.Vocab at 0x13ef6ca10>,\n",
              " 'come': <gensim.models.keyedvectors.Vocab at 0x13ef6ca50>,\n",
              " 'across': <gensim.models.keyedvectors.Vocab at 0x13ef6ca90>,\n",
              " 'contrive': <gensim.models.keyedvectors.Vocab at 0x13ef6cad0>,\n",
              " 'clearly': <gensim.models.keyedvectors.Vocab at 0x13ef6cb10>,\n",
              " 'rather': <gensim.models.keyedvectors.Vocab at 0x13ef6cb50>,\n",
              " 'bounce': <gensim.models.keyedvectors.Vocab at 0x13ef6cb90>,\n",
              " 'right': <gensim.models.keyedvectors.Vocab at 0x13ef6cbd0>,\n",
              " 'story': <gensim.models.keyedvectors.Vocab at 0x13ef6cc10>,\n",
              " 'utterly': <gensim.models.keyedvectors.Vocab at 0x13ef6cc50>,\n",
              " 'predictable': <gensim.models.keyedvectors.Vocab at 0x13ef6cc90>,\n",
              " 'comedic': <gensim.models.keyedvectors.Vocab at 0x13ef6ccd0>,\n",
              " 'event': <gensim.models.keyedvectors.Vocab at 0x13ef6cd10>,\n",
              " 'occur': <gensim.models.keyedvectors.Vocab at 0x13ef6cd50>,\n",
              " 'set': <gensim.models.keyedvectors.Vocab at 0x13ef6cd90>,\n",
              " 'obvious': <gensim.models.keyedvectors.Vocab at 0x13ef6cdd0>,\n",
              " 'soon': <gensim.models.keyedvectors.Vocab at 0x13ef6ce10>,\n",
              " 'introduce': <gensim.models.keyedvectors.Vocab at 0x13ef6ce50>,\n",
              " 'comedy': <gensim.models.keyedvectors.Vocab at 0x13ef6ce90>,\n",
              " 'mr': <gensim.models.keyedvectors.Vocab at 0x13ef6ced0>,\n",
              " 'bean': <gensim.models.keyedvectors.Vocab at 0x13ef6cf10>,\n",
              " 'disaster': <gensim.models.keyedvectors.Vocab at 0x13ef6cf50>,\n",
              " 'cause': <gensim.models.keyedvectors.Vocab at 0x13ef6cf90>,\n",
              " 'title': <gensim.models.keyedvectors.Vocab at 0x13ef6cfd0>,\n",
              " 'funny': <gensim.models.keyedvectors.Vocab at 0x13ef6f050>,\n",
              " 'empathise': <gensim.models.keyedvectors.Vocab at 0x13ef6f090>,\n",
              " 'motivation': <gensim.models.keyedvectors.Vocab at 0x13ef6f0d0>,\n",
              " 'initial': <gensim.models.keyedvectors.Vocab at 0x13ef6f110>,\n",
              " 'situation': <gensim.models.keyedvectors.Vocab at 0x13ef6f150>,\n",
              " 'however': <gensim.models.keyedvectors.Vocab at 0x13ef6f190>,\n",
              " 'deliberately': <gensim.models.keyedvectors.Vocab at 0x13ef6f1d0>,\n",
              " 'screw': <gensim.models.keyedvectors.Vocab at 0x13ef6f210>,\n",
              " 'desperate': <gensim.models.keyedvectors.Vocab at 0x13ef6f250>,\n",
              " 'draw': <gensim.models.keyedvectors.Vocab at 0x13ef6f290>,\n",
              " 'audienceif': <gensim.models.keyedvectors.Vocab at 0x13ef6f2d0>,\n",
              " 'played': <gensim.models.keyedvectors.Vocab at 0x13ef6f310>,\n",
              " 'alien': <gensim.models.keyedvectors.Vocab at 0x13ef6f350>,\n",
              " 'connects': <gensim.models.keyedvectors.Vocab at 0x13ef6f390>,\n",
              " 'whose': <gensim.models.keyedvectors.Vocab at 0x13ef6f3d0>,\n",
              " 'behaviour': <gensim.models.keyedvectors.Vocab at 0x13ef6f410>,\n",
              " 'entirely': <gensim.models.keyedvectors.Vocab at 0x13ef6f450>,\n",
              " 'inexplicable': <gensim.models.keyedvectors.Vocab at 0x13ef6f490>,\n",
              " 'except': <gensim.models.keyedvectors.Vocab at 0x13ef6f4d0>,\n",
              " 'werent': <gensim.models.keyedvectors.Vocab at 0x13ef6f510>,\n",
              " 'stereotype': <gensim.models.keyedvectors.Vocab at 0x13ef6f550>,\n",
              " 'joke': <gensim.models.keyedvectors.Vocab at 0x13ef6f590>,\n",
              " 'far': <gensim.models.keyedvectors.Vocab at 0x13ef6f5d0>,\n",
              " 'watchable': <gensim.models.keyedvectors.Vocab at 0x13ef6f610>,\n",
              " 'isnt': <gensim.models.keyedvectors.Vocab at 0x13ef6f650>,\n",
              " 'touch': <gensim.models.keyedvectors.Vocab at 0x13ef6f690>,\n",
              " 'love': <gensim.models.keyedvectors.Vocab at 0x13ef6f6d0>,\n",
              " 'reminiscent': <gensim.models.keyedvectors.Vocab at 0x13ef6f710>,\n",
              " 'heavily': <gensim.models.keyedvectors.Vocab at 0x13ef6f750>,\n",
              " 'chinese': <gensim.models.keyedvectors.Vocab at 0x13ef6f790>,\n",
              " 'poetry': <gensim.models.keyedvectors.Vocab at 0x13ef6f7d0>,\n",
              " 'use': <gensim.models.keyedvectors.Vocab at 0x13ef6f810>,\n",
              " 'eastern': <gensim.models.keyedvectors.Vocab at 0x13ef6f850>,\n",
              " 'people': <gensim.models.keyedvectors.Vocab at 0x13ef6f890>,\n",
              " 'communicate': <gensim.models.keyedvectors.Vocab at 0x13ef6f8d0>,\n",
              " 'feeling': <gensim.models.keyedvectors.Vocab at 0x13ef6f910>,\n",
              " 'focus': <gensim.models.keyedvectors.Vocab at 0x13ef6f950>,\n",
              " 'schoolteacher': <gensim.models.keyedvectors.Vocab at 0x13ef6f990>,\n",
              " 'want': <gensim.models.keyedvectors.Vocab at 0x13ef6f9d0>,\n",
              " 'model': <gensim.models.keyedvectors.Vocab at 0x13ef6fa10>,\n",
              " 'teacher': <gensim.models.keyedvectors.Vocab at 0x13ef6fa50>,\n",
              " 'good': <gensim.models.keyedvectors.Vocab at 0x13ef6fa90>,\n",
              " 'husband': <gensim.models.keyedvectors.Vocab at 0x13ef6fad0>,\n",
              " 'father': <gensim.models.keyedvectors.Vocab at 0x13ef6fb10>,\n",
              " 'senior': <gensim.models.keyedvectors.Vocab at 0x13ef6fb50>,\n",
              " 'student': <gensim.models.keyedvectors.Vocab at 0x13ef6fb90>,\n",
              " 'attract': <gensim.models.keyedvectors.Vocab at 0x13ef6fbd0>,\n",
              " 'unfolds': <gensim.models.keyedvectors.Vocab at 0x13ef6fc10>,\n",
              " 'see': <gensim.models.keyedvectors.Vocab at 0x13ef6fc50>,\n",
              " 'emotion': <gensim.models.keyedvectors.Vocab at 0x13ef6fc90>,\n",
              " 'surface': <gensim.models.keyedvectors.Vocab at 0x13ef6fcd0>,\n",
              " 'year': <gensim.models.keyedvectors.Vocab at 0x13ef6fd10>,\n",
              " 'marriage': <gensim.models.keyedvectors.Vocab at 0x13ef6fd50>,\n",
              " 'grapple': <gensim.models.keyedvectors.Vocab at 0x13ef6fd90>,\n",
              " 'moral': <gensim.models.keyedvectors.Vocab at 0x13ef6fdd0>,\n",
              " 'dilemma': <gensim.models.keyedvectors.Vocab at 0x13ef6fe10>,\n",
              " 'face': <gensim.models.keyedvectors.Vocab at 0x13ef6fe50>,\n",
              " 'beautiful': <gensim.models.keyedvectors.Vocab at 0x13ef6fe90>,\n",
              " 'latterday': <gensim.models.keyedvectors.Vocab at 0x13ef6fed0>,\n",
              " 'fulci': <gensim.models.keyedvectors.Vocab at 0x13ef6ff10>,\n",
              " 'schlocker': <gensim.models.keyedvectors.Vocab at 0x13ef6ff50>,\n",
              " 'totally': <gensim.models.keyedvectors.Vocab at 0x13ef6ff90>,\n",
              " 'abysmal': <gensim.models.keyedvectors.Vocab at 0x13ef6ffd0>,\n",
              " 'concoction': <gensim.models.keyedvectors.Vocab at 0x13ef73050>,\n",
              " 'deal': <gensim.models.keyedvectors.Vocab at 0x13ef73090>,\n",
              " 'incurable': <gensim.models.keyedvectors.Vocab at 0x13ef730d0>,\n",
              " 'gambler': <gensim.models.keyedvectors.Vocab at 0x13ef73110>,\n",
              " 'brett': <gensim.models.keyedvectors.Vocab at 0x13ef73150>,\n",
              " 'halsey': <gensim.models.keyedvectors.Vocab at 0x13ef73190>,\n",
              " 'decides': <gensim.models.keyedvectors.Vocab at 0x13ef731d0>,\n",
              " 'pay': <gensim.models.keyedvectors.Vocab at 0x13ef73210>,\n",
              " 'debt': <gensim.models.keyedvectors.Vocab at 0x13ef73250>,\n",
              " 'seduce': <gensim.models.keyedvectors.Vocab at 0x13ef73290>,\n",
              " 'ugliest': <gensim.models.keyedvectors.Vocab at 0x13ef732d0>,\n",
              " 'bitch': <gensim.models.keyedvectors.Vocab at 0x13ef73310>,\n",
              " 'ever': <gensim.models.keyedvectors.Vocab at 0x13ef73350>,\n",
              " 'lay': <gensim.models.keyedvectors.Vocab at 0x13ef73390>,\n",
              " 'eye': <gensim.models.keyedvectors.Vocab at 0x13ef733d0>,\n",
              " 'happen': <gensim.models.keyedvectors.Vocab at 0x13ef73410>,\n",
              " 'wealthy': <gensim.models.keyedvectors.Vocab at 0x13ef73450>,\n",
              " 'widow': <gensim.models.keyedvectors.Vocab at 0x13ef73490>,\n",
              " 'contrives': <gensim.models.keyedvectors.Vocab at 0x13ef734d0>,\n",
              " 'incorporate': <gensim.models.keyedvectors.Vocab at 0x13ef73510>,\n",
              " 'blackly': <gensim.models.keyedvectors.Vocab at 0x13ef73550>,\n",
              " 'element': <gensim.models.keyedvectors.Vocab at 0x13ef73590>,\n",
              " 'result': <gensim.models.keyedvectors.Vocab at 0x13ef735d0>,\n",
              " 'unfunny': <gensim.models.keyedvectors.Vocab at 0x13ef73610>,\n",
              " 'business': <gensim.models.keyedvectors.Vocab at 0x13ef73650>,\n",
              " 'involve': <gensim.models.keyedvectors.Vocab at 0x13ef73690>,\n",
              " 'corpse': <gensim.models.keyedvectors.Vocab at 0x13ef736d0>,\n",
              " 'wont': <gensim.models.keyedvectors.Vocab at 0x13ef73710>,\n",
              " 'stay': <gensim.models.keyedvectors.Vocab at 0x13ef73750>,\n",
              " 'put': <gensim.models.keyedvectors.Vocab at 0x13ef73790>,\n",
              " 'opera': <gensim.models.keyedvectors.Vocab at 0x13ef737d0>,\n",
              " 'singer': <gensim.models.keyedvectors.Vocab at 0x13ef73810>,\n",
              " 'victim': <gensim.models.keyedvectors.Vocab at 0x13ef73850>,\n",
              " 'sing': <gensim.models.keyedvectors.Vocab at 0x13ef73890>,\n",
              " 'etc': <gensim.models.keyedvectors.Vocab at 0x13ef738d0>,\n",
              " 'mention': <gensim.models.keyedvectors.Vocab at 0x13ef73910>,\n",
              " 'doppelganger': <gensim.models.keyedvectors.Vocab at 0x13ef73950>,\n",
              " 'theme': <gensim.models.keyedvectors.Vocab at 0x13ef73990>,\n",
              " 'straight': <gensim.models.keyedvectors.Vocab at 0x13ef739d0>,\n",
              " 'prague': <gensim.models.keyedvectors.Vocab at 0x13ef73a10>,\n",
              " 'although': <gensim.models.keyedvectors.Vocab at 0x13ef73a50>,\n",
              " 'case': <gensim.models.keyedvectors.Vocab at 0x13ef73a90>,\n",
              " 'two': <gensim.models.keyedvectors.Vocab at 0x13ef73ad0>,\n",
              " 'persona': <gensim.models.keyedvectors.Vocab at 0x13ef73b10>,\n",
              " 'via': <gensim.models.keyedvectors.Vocab at 0x13ef73b50>,\n",
              " 'prerecord': <gensim.models.keyedvectors.Vocab at 0x13ef73b90>,\n",
              " 'radio': <gensim.models.keyedvectors.Vocab at 0x13ef73bd0>,\n",
              " 'message': <gensim.models.keyedvectors.Vocab at 0x13ef73c10>,\n",
              " 'cant': <gensim.models.keyedvectors.Vocab at 0x13ef73c50>,\n",
              " 'surprised': <gensim.models.keyedvectors.Vocab at 0x13ef73c90>,\n",
              " 'show': <gensim.models.keyedvectors.Vocab at 0x13ef73cd0>,\n",
              " 'no': <gensim.models.keyedvectors.Vocab at 0x13ef73d10>,\n",
              " 'sign': <gensim.models.keyedvectors.Vocab at 0x13ef73d50>,\n",
              " 'sophistication': <gensim.models.keyedvectors.Vocab at 0x13ef73d90>,\n",
              " 'mario': <gensim.models.keyedvectors.Vocab at 0x13ef73dd0>,\n",
              " 'bavas': <gensim.models.keyedvectors.Vocab at 0x13ef73e10>,\n",
              " 'hatchet': <gensim.models.keyedvectors.Vocab at 0x13ef73e50>,\n",
              " 'honeymoon': <gensim.models.keyedvectors.Vocab at 0x13ef73e90>,\n",
              " 'resembles': <gensim.models.keyedvectors.Vocab at 0x13ef73ed0>,\n",
              " 'several': <gensim.models.keyedvectors.Vocab at 0x13ef73f10>,\n",
              " 'way': <gensim.models.keyedvectors.Vocab at 0x13ef73f50>,\n",
              " 'content': <gensim.models.keyedvectors.Vocab at 0x13ef73f90>,\n",
              " 'merely': <gensim.models.keyedvectors.Vocab at 0x13ef73fd0>,\n",
              " 'pile': <gensim.models.keyedvectors.Vocab at 0x13ef76050>,\n",
              " 'disgustingly': <gensim.models.keyedvectors.Vocab at 0x13ef76090>,\n",
              " 'gory': <gensim.models.keyedvectors.Vocab at 0x13ef760d0>,\n",
              " 'effect': <gensim.models.keyedvectors.Vocab at 0x13ef76110>,\n",
              " 'dismember': <gensim.models.keyedvectors.Vocab at 0x13ef76150>,\n",
              " 'limb': <gensim.models.keyedvectors.Vocab at 0x13ef76190>,\n",
              " 'squash': <gensim.models.keyedvectors.Vocab at 0x13ef761d0>,\n",
              " 'melt': <gensim.models.keyedvectors.Vocab at 0x13ef76210>,\n",
              " 'ala': <gensim.models.keyedvectors.Vocab at 0x13ef76250>,\n",
              " 'become': <gensim.models.keyedvectors.Vocab at 0x13ef76290>,\n",
              " 'associate': <gensim.models.keyedvectors.Vocab at 0x13ef762d0>,\n",
              " 'first': <gensim.models.keyedvectors.Vocab at 0x13ef76310>,\n",
              " 'firmly': <gensim.models.keyedvectors.Vocab at 0x13ef76350>,\n",
              " 'believe': <gensim.models.keyedvectors.Vocab at 0x13ef76390>,\n",
              " 'norwegian': <gensim.models.keyedvectors.Vocab at 0x13ef763d0>,\n",
              " 'continually': <gensim.models.keyedvectors.Vocab at 0x13ef76410>,\n",
              " 'tedious': <gensim.models.keyedvectors.Vocab at 0x13ef76450>,\n",
              " 'place': <gensim.models.keyedvectors.Vocab at 0x13ef76490>,\n",
              " 'start': <gensim.models.keyedvectors.Vocab at 0x13ef764d0>,\n",
              " 'contain': <gensim.models.keyedvectors.Vocab at 0x13ef76510>,\n",
              " 'humour': <gensim.models.keyedvectors.Vocab at 0x13ef76550>,\n",
              " 'imagine': <gensim.models.keyedvectors.Vocab at 0x13ef76590>,\n",
              " 'actual': <gensim.models.keyedvectors.Vocab at 0x13ef765d0>,\n",
              " 'make': <gensim.models.keyedvectors.Vocab at 0x13ef76610>,\n",
              " 'entertain': <gensim.models.keyedvectors.Vocab at 0x13ef76650>,\n",
              " 'oppose': <gensim.models.keyedvectors.Vocab at 0x13ef76690>,\n",
              " 'long': <gensim.models.keyedvectors.Vocab at 0x13ef766d0>,\n",
              " 'dark': <gensim.models.keyedvectors.Vocab at 0x13ef76710>,\n",
              " 'depress': <gensim.models.keyedvectors.Vocab at 0x13ef76750>,\n",
              " 'great': <gensim.models.keyedvectors.Vocab at 0x13ef76790>,\n",
              " 'new': <gensim.models.keyedvectors.Vocab at 0x13ef767d0>,\n",
              " 'generation': <gensim.models.keyedvectors.Vocab at 0x13ef76810>,\n",
              " 'filmmaker': <gensim.models.keyedvectors.Vocab at 0x13ef76850>,\n",
              " 'praise': <gensim.models.keyedvectors.Vocab at 0x13ef76890>,\n",
              " 'critic': <gensim.models.keyedvectors.Vocab at 0x13ef768d0>,\n",
              " 'load': <gensim.models.keyedvectors.Vocab at 0x13ef76910>,\n",
              " 'money': <gensim.models.keyedvectors.Vocab at 0x13ef76950>,\n",
              " 'spoiler': <gensim.models.keyedvectors.Vocab at 0x13ef76990>,\n",
              " 'thing': <gensim.models.keyedvectors.Vocab at 0x13ef769d0>,\n",
              " 'especially': <gensim.models.keyedvectors.Vocab at 0x13ef76a10>,\n",
              " 'comedian': <gensim.models.keyedvectors.Vocab at 0x13ef76a50>,\n",
              " 'neither': <gensim.models.keyedvectors.Vocab at 0x13ef76a90>,\n",
              " 'anything': <gensim.models.keyedvectors.Vocab at 0x13ef76ad0>,\n",
              " 'wheres': <gensim.models.keyedvectors.Vocab at 0x13ef76b10>,\n",
              " 'humor': <gensim.models.keyedvectors.Vocab at 0x13ef76b50>,\n",
              " 'awkward': <gensim.models.keyedvectors.Vocab at 0x13ef76b90>,\n",
              " 'clerk': <gensim.models.keyedvectors.Vocab at 0x13ef76bd0>,\n",
              " 'harald': <gensim.models.keyedvectors.Vocab at 0x13ef76c10>,\n",
              " 'overact': <gensim.models.keyedvectors.Vocab at 0x13ef76c50>,\n",
              " 'ridiculously': <gensim.models.keyedvectors.Vocab at 0x13ef76c90>,\n",
              " 'unrealistic': <gensim.models.keyedvectors.Vocab at 0x13ef76cd0>,\n",
              " 'football': <gensim.models.keyedvectors.Vocab at 0x13ef76d10>,\n",
              " 'coach': <gensim.models.keyedvectors.Vocab at 0x13ef76d50>,\n",
              " 'commentary': <gensim.models.keyedvectors.Vocab at 0x13ef76d90>,\n",
              " 'arne': <gensim.models.keyedvectors.Vocab at 0x13ef76dd0>,\n",
              " 'scheie': <gensim.models.keyedvectors.Vocab at 0x13ef76e10>,\n",
              " 'funnybut': <gensim.models.keyedvectors.Vocab at 0x13ef76e50>,\n",
              " 'main': <gensim.models.keyedvectors.Vocab at 0x13ef76e90>,\n",
              " 'rant': <gensim.models.keyedvectors.Vocab at 0x13ef76ed0>,\n",
              " 'united': <gensim.models.keyedvectors.Vocab at 0x13ef76f10>,\n",
              " 'namely': <gensim.models.keyedvectors.Vocab at 0x13ef76f50>,\n",
              " 'predictability': <gensim.models.keyedvectors.Vocab at 0x13ef76f90>,\n",
              " 'fear': <gensim.models.keyedvectors.Vocab at 0x13ef76fd0>,\n",
              " 'standstill': <gensim.models.keyedvectors.Vocab at 0x13ef79050>,\n",
              " 'since': <gensim.models.keyedvectors.Vocab at 0x13ef79090>,\n",
              " 'go': <gensim.models.keyedvectors.Vocab at 0x13ef790d0>,\n",
              " 'exactly': <gensim.models.keyedvectors.Vocab at 0x13ef79110>,\n",
              " 'present': <gensim.models.keyedvectors.Vocab at 0x13ef79150>,\n",
              " 'deserve': <gensim.models.keyedvectors.Vocab at 0x13ef79190>,\n",
              " 'there': <gensim.models.keyedvectors.Vocab at 0x13ef791d0>,\n",
              " 'room': <gensim.models.keyedvectors.Vocab at 0x13ef79210>,\n",
              " 'surprise': <gensim.models.keyedvectors.Vocab at 0x13ef79250>,\n",
              " 'allall': <gensim.models.keyedvectors.Vocab at 0x13ef79290>,\n",
              " 'sat': <gensim.models.keyedvectors.Vocab at 0x13ef792d0>,\n",
              " 'realize': <gensim.models.keyedvectors.Vocab at 0x13ef79310>,\n",
              " 'need': <gensim.models.keyedvectors.Vocab at 0x13ef79350>,\n",
              " 'blood': <gensim.models.keyedvectors.Vocab at 0x13ef79390>,\n",
              " 'receive': <gensim.models.keyedvectors.Vocab at 0x13ef793d0>,\n",
              " 'positive': <gensim.models.keyedvectors.Vocab at 0x13ef79410>,\n",
              " 'review': <gensim.models.keyedvectors.Vocab at 0x13ef79450>,\n",
              " 'site': <gensim.models.keyedvectors.Vocab at 0x13ef79490>,\n",
              " 'vonnegut': <gensim.models.keyedvectors.Vocab at 0x13ef794d0>,\n",
              " 'showtime': <gensim.models.keyedvectors.Vocab at 0x13ef79510>,\n",
              " 'bastardize': <gensim.models.keyedvectors.Vocab at 0x13ef79550>,\n",
              " 'beyond': <gensim.models.keyedvectors.Vocab at 0x13ef79590>,\n",
              " 'even': <gensim.models.keyedvectors.Vocab at 0x13ef795d0>,\n",
              " 'wasnt': <gensim.models.keyedvectors.Vocab at 0x13ef79610>,\n",
              " 'poor': <gensim.models.keyedvectors.Vocab at 0x13ef79650>,\n",
              " 'sean': <gensim.models.keyedvectors.Vocab at 0x13ef79690>,\n",
              " 'astin': <gensim.models.keyedvectors.Vocab at 0x13ef796d0>,\n",
              " 'brilliant': <gensim.models.keyedvectors.Vocab at 0x13ef79710>,\n",
              " 'athletic': <gensim.models.keyedvectors.Vocab at 0x13ef79750>,\n",
              " 'around': <gensim.models.keyedvectors.Vocab at 0x13ef79790>,\n",
              " 'harrison': <gensim.models.keyedvectors.Vocab at 0x13ef797d0>,\n",
              " 'guy': <gensim.models.keyedvectors.Vocab at 0x13ef79810>,\n",
              " 'generic': <gensim.models.keyedvectors.Vocab at 0x13ef79850>,\n",
              " 'substandard': <gensim.models.keyedvectors.Vocab at 0x13ef79890>,\n",
              " 'render': <gensim.models.keyedvectors.Vocab at 0x13ef798d0>,\n",
              " 'tripe': <gensim.models.keyedvectors.Vocab at 0x13ef79910>,\n",
              " 'barely': <gensim.models.keyedvectors.Vocab at 0x13ef79950>,\n",
              " 'someone': <gensim.models.keyedvectors.Vocab at 0x13ef79990>,\n",
              " 'point': <gensim.models.keyedvectors.Vocab at 0x13ef799d0>,\n",
              " 'cute': <gensim.models.keyedvectors.Vocab at 0x13ef79a10>,\n",
              " 'culkin': <gensim.models.keyedvectors.Vocab at 0x13ef79a50>,\n",
              " 'line': <gensim.models.keyedvectors.Vocab at 0x13ef79a90>,\n",
              " 'read': <gensim.models.keyedvectors.Vocab at 0x13ef79ad0>,\n",
              " 'pure': <gensim.models.keyedvectors.Vocab at 0x13ef79b10>,\n",
              " 'brilliance': <gensim.models.keyedvectors.Vocab at 0x13ef79b50>,\n",
              " 'sadly': <gensim.models.keyedvectors.Vocab at 0x13ef79b90>,\n",
              " 'intentionally': <gensim.models.keyedvectors.Vocab at 0x13ef79bd0>,\n",
              " 'part': <gensim.models.keyedvectors.Vocab at 0x13ef79c10>,\n",
              " 'maybe': <gensim.models.keyedvectors.Vocab at 0x13ef79c50>,\n",
              " 'youll': <gensim.models.keyedvectors.Vocab at 0x13ef79c90>,\n",
              " 'youre': <gensim.models.keyedvectors.Vocab at 0x13ef79cd0>,\n",
              " 'insane': <gensim.models.keyedvectors.Vocab at 0x13ef79d10>,\n",
              " 'please': <gensim.models.keyedvectors.Vocab at 0x13ef79d50>,\n",
              " 'nightmare': <gensim.models.keyedvectors.Vocab at 0x13ef79d90>,\n",
              " 'weekend': <gensim.models.keyedvectors.Vocab at 0x13ef79dd0>,\n",
              " 'star': <gensim.models.keyedvectors.Vocab at 0x13ef79e10>,\n",
              " 'ridiculous': <gensim.models.keyedvectors.Vocab at 0x13ef79e50>,\n",
              " 'actor': <gensim.models.keyedvectors.Vocab at 0x13ef79e90>,\n",
              " 'less': <gensim.models.keyedvectors.Vocab at 0x13ef79ed0>,\n",
              " 'idea': <gensim.models.keyedvectors.Vocab at 0x13ef79f10>,\n",
              " 'decipherable': <gensim.models.keyedvectors.Vocab at 0x13ef79f50>,\n",
              " 'special': <gensim.models.keyedvectors.Vocab at 0x13ef79f90>,\n",
              " 'sound': <gensim.models.keyedvectors.Vocab at 0x13ef79fd0>,\n",
              " 'direct': <gensim.models.keyedvectors.Vocab at 0x13ef7d050>,\n",
              " 'henry': <gensim.models.keyedvectors.Vocab at 0x13ef7d090>,\n",
              " 'sala': <gensim.models.keyedvectors.Vocab at 0x13ef7d0d0>,\n",
              " 'reason': <gensim.models.keyedvectors.Vocab at 0x13ef7d110>,\n",
              " 'arnies': <gensim.models.keyedvectors.Vocab at 0x13ef7d150>,\n",
              " 'incident': <gensim.models.keyedvectors.Vocab at 0x13ef7d190>,\n",
              " 'helicopter': <gensim.models.keyedvectors.Vocab at 0x13ef7d1d0>,\n",
              " 'disobey': <gensim.models.keyedvectors.Vocab at 0x13ef7d210>,\n",
              " 'order': <gensim.models.keyedvectors.Vocab at 0x13ef7d250>,\n",
              " 'he': <gensim.models.keyedvectors.Vocab at 0x13ef7d290>,\n",
              " 'sent': <gensim.models.keyedvectors.Vocab at 0x13ef7d2d0>,\n",
              " 'jail': <gensim.models.keyedvectors.Vocab at 0x13ef7d310>,\n",
              " 'sort': <gensim.models.keyedvectors.Vocab at 0x13ef7d350>,\n",
              " 'work': <gensim.models.keyedvectors.Vocab at 0x13ef7d390>,\n",
              " 'camp': <gensim.models.keyedvectors.Vocab at 0x13ef7d3d0>,\n",
              " 'escape': <gensim.models.keyedvectors.Vocab at 0x13ef7d410>,\n",
              " 'short': <gensim.models.keyedvectors.Vocab at 0x13ef7d450>,\n",
              " 'caught': <gensim.models.keyedvectors.Vocab at 0x13ef7d490>,\n",
              " 'freakish': <gensim.models.keyedvectors.Vocab at 0x13ef7d4d0>,\n",
              " 'reality': <gensim.models.keyedvectors.Vocab at 0x13ef7d510>,\n",
              " 'bunch': <gensim.models.keyedvectors.Vocab at 0x13ef7d550>,\n",
              " 'tough': <gensim.models.keyedvectors.Vocab at 0x13ef7d590>,\n",
              " 'eventually': <gensim.models.keyedvectors.Vocab at 0x13ef7d5d0>,\n",
              " 'die': <gensim.models.keyedvectors.Vocab at 0x13ef7d610>,\n",
              " 'arnie': <gensim.models.keyedvectors.Vocab at 0x13ef7d650>,\n",
              " 'tougher': <gensim.models.keyedvectors.Vocab at 0x13ef7d690>,\n",
              " 'toughest': <gensim.models.keyedvectors.Vocab at 0x13ef7d6d0>,\n",
              " 'guysi': <gensim.models.keyedvectors.Vocab at 0x13ef7d710>,\n",
              " 'man': <gensim.models.keyedvectors.Vocab at 0x13ef7d750>,\n",
              " 'contains': <gensim.models.keyedvectors.Vocab at 0x13ef7d790>,\n",
              " 'flaw': <gensim.models.keyedvectors.Vocab at 0x13ef7d7d0>,\n",
              " 'annoy': <gensim.models.keyedvectors.Vocab at 0x13ef7d810>,\n",
              " 'crap': <gensim.models.keyedvectors.Vocab at 0x13ef7d850>,\n",
              " 'eg': <gensim.models.keyedvectors.Vocab at 0x13ef7d890>,\n",
              " 'reconstruction': <gensim.models.keyedvectors.Vocab at 0x13ef7d8d0>,\n",
              " 'inside': <gensim.models.keyedvectors.Vocab at 0x13ef7d910>,\n",
              " 'summary': <gensim.models.keyedvectors.Vocab at 0x13ef7d950>,\n",
              " 'complete': <gensim.models.keyedvectors.Vocab at 0x13ef7d990>,\n",
              " 'camera': <gensim.models.keyedvectors.Vocab at 0x13ef7d9d0>,\n",
              " 'angle': <gensim.models.keyedvectors.Vocab at 0x13ef7da10>,\n",
              " 'mean': <gensim.models.keyedvectors.Vocab at 0x13ef7da50>,\n",
              " 'military': <gensim.models.keyedvectors.Vocab at 0x13ef7da90>,\n",
              " 'flew': <gensim.models.keyedvectors.Vocab at 0x13ef7dad0>,\n",
              " 'equip': <gensim.models.keyedvectors.Vocab at 0x13ef7db10>,\n",
              " 'almost': <gensim.models.keyedvectors.Vocab at 0x13ef7db50>,\n",
              " 'crew': <gensim.models.keyedvectors.Vocab at 0x13ef7db90>,\n",
              " 'member': <gensim.models.keyedvectors.Vocab at 0x13ef7dbd0>,\n",
              " 'theory': <gensim.models.keyedvectors.Vocab at 0x13ef7dc10>,\n",
              " 'interest': <gensim.models.keyedvectors.Vocab at 0x13ef7dc50>,\n",
              " 'innovative': <gensim.models.keyedvectors.Vocab at 0x13ef7dc90>,\n",
              " 'creates': <gensim.models.keyedvectors.Vocab at 0x13ef7dcd0>,\n",
              " 'pool': <gensim.models.keyedvectors.Vocab at 0x13ef7dd10>,\n",
              " 'stupidness': <gensim.models.keyedvectors.Vocab at 0x13ef7dd50>,\n",
              " 'unrealism': <gensim.models.keyedvectors.Vocab at 0x13ef7dd90>,\n",
              " 'sub': <gensim.models.keyedvectors.Vocab at 0x13ef7ddd0>,\n",
              " 'par': <gensim.models.keyedvectors.Vocab at 0x13ef7de10>,\n",
              " 'average': <gensim.models.keyedvectors.Vocab at 0x13ef7de50>,\n",
              " 'rest': <gensim.models.keyedvectors.Vocab at 0x13ef7de90>,\n",
              " 'without': <gensim.models.keyedvectors.Vocab at 0x13ef7ded0>,\n",
              " 'badthe': <gensim.models.keyedvectors.Vocab at 0x13ef7df10>,\n",
              " 'ok': <gensim.models.keyedvectors.Vocab at 0x13ef7df50>,\n",
              " 'badmouthing': <gensim.models.keyedvectors.Vocab at 0x13ef7df90>,\n",
              " 'understand': <gensim.models.keyedvectors.Vocab at 0x13ef7dfd0>,\n",
              " 'begin': <gensim.models.keyedvectors.Vocab at 0x13ef81050>,\n",
              " 'blockbuster': <gensim.models.keyedvectors.Vocab at 0x13ef81090>,\n",
              " 'adverse': <gensim.models.keyedvectors.Vocab at 0x13ef810d0>,\n",
              " 'doesnt': <gensim.models.keyedvectors.Vocab at 0x13ef81110>,\n",
              " 'leonardo': <gensim.models.keyedvectors.Vocab at 0x13ef81150>,\n",
              " 'dicaprio': <gensim.models.keyedvectors.Vocab at 0x13ef81190>,\n",
              " 'wilder': <gensim.models.keyedvectors.Vocab at 0x13ef811d0>,\n",
              " 'napalm': <gensim.models.keyedvectors.Vocab at 0x13ef81210>,\n",
              " 'neat': <gensim.models.keyedvectors.Vocab at 0x13ef81250>,\n",
              " 'may': <gensim.models.keyedvectors.Vocab at 0x13ef81290>,\n",
              " 'quirky': <gensim.models.keyedvectors.Vocab at 0x13ef812d0>,\n",
              " 'stupid': <gensim.models.keyedvectors.Vocab at 0x13ef81310>,\n",
              " 'particular': <gensim.models.keyedvectors.Vocab at 0x13ef81350>,\n",
              " 'impressed': <gensim.models.keyedvectors.Vocab at 0x13ef81390>,\n",
              " 'play': <gensim.models.keyedvectors.Vocab at 0x13ef813d0>,\n",
              " 'large': <gensim.models.keyedvectors.Vocab at 0x13ef81410>,\n",
              " 'notice': <gensim.models.keyedvectors.Vocab at 0x13ef81450>,\n",
              " 'important': <gensim.models.keyedvectors.Vocab at 0x13ef81490>,\n",
              " 'vida': <gensim.models.keyedvectors.Vocab at 0x13ef814d0>,\n",
              " 'life': <gensim.models.keyedvectors.Vocab at 0x13ef81510>,\n",
              " 'background': <gensim.models.keyedvectors.Vocab at 0x13ef81550>,\n",
              " 'vidas': <gensim.models.keyedvectors.Vocab at 0x13ef81590>,\n",
              " 'wallace': <gensim.models.keyedvectors.Vocab at 0x13ef815d0>,\n",
              " 'heard': <gensim.models.keyedvectors.Vocab at 0x13ef81610>,\n",
              " 'opening': <gensim.models.keyedvectors.Vocab at 0x13ef81650>,\n",
              " 'sequence': <gensim.models.keyedvectors.Vocab at 0x13ef81690>,\n",
              " 'lyric': <gensim.models.keyedvectors.Vocab at 0x13ef816d0>,\n",
              " 'instance': <gensim.models.keyedvectors.Vocab at 0x13ef81710>,\n",
              " 'men': <gensim.models.keyedvectors.Vocab at 0x13ef81750>,\n",
              " 'duke': <gensim.models.keyedvectors.Vocab at 0x13ef81790>,\n",
              " 'earl': <gensim.models.keyedvectors.Vocab at 0x13ef817d0>,\n",
              " 'something': <gensim.models.keyedvectors.Vocab at 0x13ef81810>,\n",
              " 'girl': <gensim.models.keyedvectors.Vocab at 0x13ef81850>,\n",
              " 'cleverly': <gensim.models.keyedvectors.Vocab at 0x13ef81890>,\n",
              " 'tension': <gensim.models.keyedvectors.Vocab at 0x13ef818d0>,\n",
              " 'intricacy': <gensim.models.keyedvectors.Vocab at 0x13ef81910>,\n",
              " 'look': <gensim.models.keyedvectors.Vocab at 0x13ef81950>,\n",
              " 'flop': <gensim.models.keyedvectors.Vocab at 0x13ef81990>,\n",
              " 'outside': <gensim.models.keyedvectors.Vocab at 0x13ef819d0>,\n",
              " 'real': <gensim.models.keyedvectors.Vocab at 0x13ef81a10>,\n",
              " 'usual': <gensim.models.keyedvectors.Vocab at 0x13ef81a50>,\n",
              " 'forward': <gensim.models.keyedvectors.Vocab at 0x13ef81a90>,\n",
              " 'tvfilm': <gensim.models.keyedvectors.Vocab at 0x13ef81ad0>,\n",
              " 'favourite': <gensim.models.keyedvectors.Vocab at 0x13ef81b10>,\n",
              " 'subject': <gensim.models.keyedvectors.Vocab at 0x13ef81b50>,\n",
              " 'mine': <gensim.models.keyedvectors.Vocab at 0x13ef81b90>,\n",
              " 'nice': <gensim.models.keyedvectors.Vocab at 0x13ef81bd0>,\n",
              " 'change': <gensim.models.keyedvectors.Vocab at 0x13ef81c10>,\n",
              " 'strangely': <gensim.models.keyedvectors.Vocab at 0x13ef81c50>,\n",
              " 'documentary': <gensim.models.keyedvectors.Vocab at 0x13ef81c90>,\n",
              " 'stalingrad': <gensim.models.keyedvectors.Vocab at 0x13ef81cd0>,\n",
              " 'history': <gensim.models.keyedvectors.Vocab at 0x13ef81d10>,\n",
              " 'channeli': <gensim.models.keyedvectors.Vocab at 0x13ef81d50>,\n",
              " 'avidly': <gensim.models.keyedvectors.Vocab at 0x13ef81d90>,\n",
              " 'pearl': <gensim.models.keyedvectors.Vocab at 0x13ef81dd0>,\n",
              " 'harbour': <gensim.models.keyedvectors.Vocab at 0x13ef81e10>,\n",
              " 'enemy': <gensim.models.keyedvectors.Vocab at 0x13ef81e50>,\n",
              " 'gate': <gensim.models.keyedvectors.Vocab at 0x13ef81e90>,\n",
              " 'rudely': <gensim.models.keyedvectors.Vocab at 0x13ef81ed0>,\n",
              " 'brought': <gensim.models.keyedvectors.Vocab at 0x13ef81f10>,\n",
              " 'earth': <gensim.models.keyedvectors.Vocab at 0x13ef81f50>,\n",
              " 'realisation': <gensim.models.keyedvectors.Vocab at 0x13ef81f90>,\n",
              " 'malevolent': <gensim.models.keyedvectors.Vocab at 0x13ef81fd0>,\n",
              " 'power': <gensim.models.keyedvectors.Vocab at 0x13ef84050>,\n",
              " 'hollywood': <gensim.models.keyedvectors.Vocab at 0x13ef84090>,\n",
              " 'spend': <gensim.models.keyedvectors.Vocab at 0x13ef840d0>,\n",
              " 'absolute': <gensim.models.keyedvectors.Vocab at 0x13ef84110>,\n",
              " 'fortune': <gensim.models.keyedvectors.Vocab at 0x13ef84150>,\n",
              " 'yet': <gensim.models.keyedvectors.Vocab at 0x13ef84190>,\n",
              " 'excite': <gensim.models.keyedvectors.Vocab at 0x13ef841d0>,\n",
              " 'rise': <gensim.models.keyedvectors.Vocab at 0x13ef84210>,\n",
              " 'evil': <gensim.models.keyedvectors.Vocab at 0x13ef84250>,\n",
              " 'kershaw': <gensim.models.keyedvectors.Vocab at 0x13ef84290>,\n",
              " 'ive': <gensim.models.keyedvectors.Vocab at 0x13ef842d0>,\n",
              " 'enjoy': <gensim.models.keyedvectors.Vocab at 0x13ef84310>,\n",
              " 'book': <gensim.models.keyedvectors.Vocab at 0x13ef84350>,\n",
              " 'quote': <gensim.models.keyedvectors.Vocab at 0x13ef84390>,\n",
              " 'responsible': <gensim.models.keyedvectors.Vocab at 0x13ef843d0>,\n",
              " 'rubbishthe': <gensim.models.keyedvectors.Vocab at 0x13ef84410>,\n",
              " 'academic': <gensim.models.keyedvectors.Vocab at 0x13ef84450>,\n",
              " 'piece': <gensim.models.keyedvectors.Vocab at 0x13ef84490>,\n",
              " 'dry': <gensim.models.keyedvectors.Vocab at 0x13ef844d0>,\n",
              " 'nut': <gensim.models.keyedvectors.Vocab at 0x13ef84510>,\n",
              " 'hitler': <gensim.models.keyedvectors.Vocab at 0x13ef84550>,\n",
              " 'can': <gensim.models.keyedvectors.Vocab at 0x13ef84590>,\n",
              " 'yes': <gensim.models.keyedvectors.Vocab at 0x13ef845d0>,\n",
              " 'volume': <gensim.models.keyedvectors.Vocab at 0x13ef84610>,\n",
              " 'biography': <gensim.models.keyedvectors.Vocab at 0x13ef84650>,\n",
              " 'detailed': <gensim.models.keyedvectors.Vocab at 0x13ef84690>,\n",
              " 'bethe': <gensim.models.keyedvectors.Vocab at 0x13ef846d0>,\n",
              " 'thesis': <gensim.models.keyedvectors.Vocab at 0x13ef84710>,\n",
              " 'behind': <gensim.models.keyedvectors.Vocab at 0x13ef84750>,\n",
              " 'hat': <gensim.models.keyedvectors.Vocab at 0x13ef84790>,\n",
              " 'jew': <gensim.models.keyedvectors.Vocab at 0x13ef847d0>,\n",
              " 'miss': <gensim.models.keyedvectors.Vocab at 0x13ef84810>,\n",
              " 'emphasise': <gensim.models.keyedvectors.Vocab at 0x13ef84850>,\n",
              " 'fact': <gensim.models.keyedvectors.Vocab at 0x13ef84890>,\n",
              " 'every': <gensim.models.keyedvectors.Vocab at 0x13ef848d0>,\n",
              " 'filmthere': <gensim.models.keyedvectors.Vocab at 0x13ef84910>,\n",
              " 'effort': <gensim.models.keyedvectors.Vocab at 0x13ef84950>,\n",
              " 'whatsoever': <gensim.models.keyedvectors.Vocab at 0x13ef84990>,\n",
              " 'explain': <gensim.models.keyedvectors.Vocab at 0x13ef849d0>,\n",
              " 'adopt': <gensim.models.keyedvectors.Vocab at 0x13ef84a10>,\n",
              " 'view': <gensim.models.keyedvectors.Vocab at 0x13ef84a50>,\n",
              " 'strategy': <gensim.models.keyedvectors.Vocab at 0x13ef84a90>,\n",
              " 'needle': <gensim.models.keyedvectors.Vocab at 0x13ef84ad0>,\n",
              " 'unlike': <gensim.models.keyedvectors.Vocab at 0x13ef84b10>,\n",
              " 'generally': <gensim.models.keyedvectors.Vocab at 0x13ef84b50>,\n",
              " 'excellent': <gensim.models.keyedvectors.Vocab at 0x13ef84b90>,\n",
              " 'nazi': <gensim.models.keyedvectors.Vocab at 0x13ef84bd0>,\n",
              " 'warn': <gensim.models.keyedvectors.Vocab at 0x13ef84c10>,\n",
              " 'neglect': <gensim.models.keyedvectors.Vocab at 0x13ef84c50>,\n",
              " 'nearly': <gensim.models.keyedvectors.Vocab at 0x13ef84c90>,\n",
              " 'leader': <gensim.models.keyedvectors.Vocab at 0x13ef84cd0>,\n",
              " 'munich': <gensim.models.keyedvectors.Vocab at 0x13ef84d10>,\n",
              " 'communist': <gensim.models.keyedvectors.Vocab at 0x13ef84d50>,\n",
              " 'jewish': <gensim.models.keyedvectors.Vocab at 0x13ef84d90>,\n",
              " 'colour': <gensim.models.keyedvectors.Vocab at 0x13ef84dd0>,\n",
              " 'link': <gensim.models.keyedvectors.Vocab at 0x13ef84e10>,\n",
              " 'bolshevism': <gensim.models.keyedvectors.Vocab at 0x13ef84e50>,\n",
              " 'crucial': <gensim.models.keyedvectors.Vocab at 0x13ef84e90>,\n",
              " 'aspect': <gensim.models.keyedvectors.Vocab at 0x13ef84ed0>,\n",
              " 'stuff': <gensim.models.keyedvectors.Vocab at 0x13ef84f10>,\n",
              " 'knew': <gensim.models.keyedvectors.Vocab at 0x13ef84f50>,\n",
              " 'anyway': <gensim.models.keyedvectors.Vocab at 0x13ef84f90>,\n",
              " 'certainly': <gensim.models.keyedvectors.Vocab at 0x13ef84fd0>,\n",
              " 'fascinate': <gensim.models.keyedvectors.Vocab at 0x13ef87050>,\n",
              " 'alludes': <gensim.models.keyedvectors.Vocab at 0x13ef87090>,\n",
              " 'briefly': <gensim.models.keyedvectors.Vocab at 0x13ef870d0>,\n",
              " 'immediately': <gensim.models.keyedvectors.Vocab at 0x13ef87110>,\n",
              " 'ww': <gensim.models.keyedvectors.Vocab at 0x13ef87150>,\n",
              " 'would': <gensim.models.keyedvectors.Vocab at 0x13ef87190>,\n",
              " 'course': <gensim.models.keyedvectors.Vocab at 0x13ef871d0>,\n",
              " 'complex': <gensim.models.keyedvectors.Vocab at 0x13ef87210>,\n",
              " 'handle': <gensim.models.keyedvectors.Vocab at 0x13ef87250>,\n",
              " 'might': <gensim.models.keyedvectors.Vocab at 0x13ef87290>,\n",
              " 'detract': <gensim.models.keyedvectors.Vocab at 0x13ef872d0>,\n",
              " 'relentless': <gensim.models.keyedvectors.Vocab at 0x13ef87310>,\n",
              " 'mantra': <gensim.models.keyedvectors.Vocab at 0x13ef87350>,\n",
              " 'bang': <gensim.models.keyedvectors.Vocab at 0x13ef87390>,\n",
              " 'away': <gensim.models.keyedvectors.Vocab at 0x13ef873d0>,\n",
              " 'mesmerise': <gensim.models.keyedvectors.Vocab at 0x13ef87410>,\n",
              " 'figure': <gensim.models.keyedvectors.Vocab at 0x13ef87450>,\n",
              " 'public': <gensim.models.keyedvectors.Vocab at 0x13ef87490>,\n",
              " 'speaker': <gensim.models.keyedvectors.Vocab at 0x13ef874d0>,\n",
              " 'private': <gensim.models.keyedvectors.Vocab at 0x13ef87510>,\n",
              " 'polite': <gensim.models.keyedvectors.Vocab at 0x13ef87550>,\n",
              " 'sympathetic': <gensim.models.keyedvectors.Vocab at 0x13ef87590>,\n",
              " 'espouse': <gensim.models.keyedvectors.Vocab at 0x13ef875d0>,\n",
              " 'vegetarianism': <gensim.models.keyedvectors.Vocab at 0x13ef87610>,\n",
              " 'antismoking': <gensim.models.keyedvectors.Vocab at 0x13ef87650>,\n",
              " 'guardian': <gensim.models.keyedvectors.Vocab at 0x13ef87690>,\n",
              " 'reader': <gensim.models.keyedvectors.Vocab at 0x13ef876d0>,\n",
              " 'agree': <gensim.models.keyedvectors.Vocab at 0x13ef87710>,\n",
              " 'famously': <gensim.models.keyedvectors.Vocab at 0x13ef87750>,\n",
              " 'fond': <gensim.models.keyedvectors.Vocab at 0x13ef87790>,\n",
              " 'animal': <gensim.models.keyedvectors.Vocab at 0x13ef877d0>,\n",
              " 'hence': <gensim.models.keyedvectors.Vocab at 0x13ef87810>,\n",
              " 'wholly': <gensim.models.keyedvectors.Vocab at 0x13ef87850>,\n",
              " 'invent': <gensim.models.keyedvectors.Vocab at 0x13ef87890>,\n",
              " 'account': <gensim.models.keyedvectors.Vocab at 0x13ef878d0>,\n",
              " 'brave': <gensim.models.keyedvectors.Vocab at 0x13ef87910>,\n",
              " 'soldier': <gensim.models.keyedvectors.Vocab at 0x13ef87950>,\n",
              " 'whilst': <gensim.models.keyedvectors.Vocab at 0x13ef87990>,\n",
              " 'saw': <gensim.models.keyedvectors.Vocab at 0x13ef879d0>,\n",
              " 'iron': <gensim.models.keyedvectors.Vocab at 0x13ef87a10>,\n",
              " 'cross': <gensim.models.keyedvectors.Vocab at 0x13ef87a50>,\n",
              " 'bravery': <gensim.models.keyedvectors.Vocab at 0x13ef87a90>,\n",
              " 'insight': <gensim.models.keyedvectors.Vocab at 0x13ef87ad0>,\n",
              " 'fire': <gensim.models.keyedvectors.Vocab at 0x13ef87b10>,\n",
              " 'war': <gensim.models.keyedvectors.Vocab at 0x13ef87b50>,\n",
              " 'experience': <gensim.models.keyedvectors.Vocab at 0x13ef87b90>,\n",
              " 'sassoon': <gensim.models.keyedvectors.Vocab at 0x13ef87bd0>,\n",
              " 'owen': <gensim.models.keyedvectors.Vocab at 0x13ef87c10>,\n",
              " 'brook': <gensim.models.keyedvectors.Vocab at 0x13ef87c50>,\n",
              " 'remarque': <gensim.models.keyedvectors.Vocab at 0x13ef87c90>,\n",
              " 'others': <gensim.models.keyedvectors.Vocab at 0x13ef87cd0>,\n",
              " 'found': <gensim.models.keyedvectors.Vocab at 0x13ef87d10>,\n",
              " 'repellent': <gensim.models.keyedvectors.Vocab at 0x13ef87d50>,\n",
              " 'vital': <gensim.models.keyedvectors.Vocab at 0x13ef87d90>,\n",
              " 'anyones': <gensim.models.keyedvectors.Vocab at 0x13ef87dd0>,\n",
              " 'always': <gensim.models.keyedvectors.Vocab at 0x13ef87e10>,\n",
              " 'despite': <gensim.models.keyedvectors.Vocab at 0x13ef87e50>,\n",
              " 'massive': <gensim.models.keyedvectors.Vocab at 0x13ef87e90>,\n",
              " 'evidence': <gensim.models.keyedvectors.Vocab at 0x13ef87ed0>,\n",
              " 'contrary': <gensim.models.keyedvectors.Vocab at 0x13ef87f10>,\n",
              " 'colleague': <gensim.models.keyedvectors.Vocab at 0x13ef87f50>,\n",
              " 'still': <gensim.models.keyedvectors.Vocab at 0x13ef87f90>,\n",
              " 'drew': <gensim.models.keyedvectors.Vocab at 0x13ef87fd0>,\n",
              " 'wrong': <gensim.models.keyedvectors.Vocab at 0x13ef8c050>,\n",
              " 'conclusionsthis': <gensim.models.keyedvectors.Vocab at 0x13ef8c090>,\n",
              " 'eitheras': <gensim.models.keyedvectors.Vocab at 0x13ef8c0d0>,\n",
              " 'often': <gensim.models.keyedvectors.Vocab at 0x13ef8c110>,\n",
              " 'day': <gensim.models.keyedvectors.Vocab at 0x13ef8c150>,\n",
              " 'classic': <gensim.models.keyedvectors.Vocab at 0x13ef8c190>,\n",
              " 'example': <gensim.models.keyedvectors.Vocab at 0x13ef8c1d0>,\n",
              " 'relevant': <gensim.models.keyedvectors.Vocab at 0x13ef8c210>,\n",
              " 'leave': <gensim.models.keyedvectors.Vocab at 0x13ef8c250>,\n",
              " 'fit': <gensim.models.keyedvectors.Vocab at 0x13ef8c290>,\n",
              " 'cater': <gensim.models.keyedvectors.Vocab at 0x13ef8c2d0>,\n",
              " 'low': <gensim.models.keyedvectors.Vocab at 0x13ef8c310>,\n",
              " 'common': <gensim.models.keyedvectors.Vocab at 0x13ef8c350>,\n",
              " 'denominator': <gensim.models.keyedvectors.Vocab at 0x13ef8c390>,\n",
              " 'trust': <gensim.models.keyedvectors.Vocab at 0x13ef8c3d0>,\n",
              " 'inch': <gensim.models.keyedvectors.Vocab at 0x13ef8c410>,\n",
              " 'ram': <gensim.models.keyedvectors.Vocab at 0x13ef8c450>,\n",
              " 'throat': <gensim.models.keyedvectors.Vocab at 0x13ef8c490>,\n",
              " 'correctly': <gensim.models.keyedvectors.Vocab at 0x13ef8c4d0>,\n",
              " 'dumb': <gensim.models.keyedvectors.Vocab at 0x13ef8c510>,\n",
              " 'fool': <gensim.models.keyedvectors.Vocab at 0x13ef8c550>,\n",
              " 'past': <gensim.models.keyedvectors.Vocab at 0x13ef8c590>,\n",
              " 'rubbish': <gensim.models.keyedvectors.Vocab at 0x13ef8c5d0>,\n",
              " 'opportunity': <gensim.models.keyedvectors.Vocab at 0x13ef8c610>,\n",
              " 'lose': <gensim.models.keyedvectors.Vocab at 0x13ef8c650>,\n",
              " 'spent': <gensim.models.keyedvectors.Vocab at 0x13ef8c690>,\n",
              " 'million': <gensim.models.keyedvectors.Vocab at 0x13ef8c6d0>,\n",
              " 'location': <gensim.models.keyedvectors.Vocab at 0x13ef8c710>,\n",
              " 'impressive': <gensim.models.keyedvectors.Vocab at 0x13ef8c750>,\n",
              " 'told': <gensim.models.keyedvectors.Vocab at 0x13ef8c790>,\n",
              " 'nothing': <gensim.models.keyedvectors.Vocab at 0x13ef8c7d0>,\n",
              " 'promote': <gensim.models.keyedvectors.Vocab at 0x13ef8c810>,\n",
              " 'period': <gensim.models.keyedvectors.Vocab at 0x13ef8c850>,\n",
              " 'human': <gensim.models.keyedvectors.Vocab at 0x13ef8c890>,\n",
              " 'liberally': <gensim.models.keyedvectors.Vocab at 0x13ef8c8d0>,\n",
              " 'fastforward': <gensim.models.keyedvectors.Vocab at 0x13ef8c910>,\n",
              " 'button': <gensim.models.keyedvectors.Vocab at 0x13ef8c950>,\n",
              " 'shot': <gensim.models.keyedvectors.Vocab at 0x13ef8c990>,\n",
              " 'stewart': <gensim.models.keyedvectors.Vocab at 0x13ef8c9d0>,\n",
              " 'michael': <gensim.models.keyedvectors.Vocab at 0x13ef8ca10>,\n",
              " 'zelniker': <gensim.models.keyedvectors.Vocab at 0x13ef8ca50>,\n",
              " 'walk': <gensim.models.keyedvectors.Vocab at 0x13ef8ca90>,\n",
              " 'hallway': <gensim.models.keyedvectors.Vocab at 0x13ef8cad0>,\n",
              " 'door': <gensim.models.keyedvectors.Vocab at 0x13ef8cb10>,\n",
              " 'street': <gensim.models.keyedvectors.Vocab at 0x13ef8cb50>,\n",
              " 'pensive': <gensim.models.keyedvectors.Vocab at 0x13ef8cb90>,\n",
              " 'confuse': <gensim.models.keyedvectors.Vocab at 0x13ef8cbd0>,\n",
              " 'impression': <gensim.models.keyedvectors.Vocab at 0x13ef8cc10>,\n",
              " 'originally': <gensim.models.keyedvectors.Vocab at 0x13ef8cc50>,\n",
              " 'stretch': <gensim.models.keyedvectors.Vocab at 0x13ef8cc90>,\n",
              " 'labour': <gensim.models.keyedvectors.Vocab at 0x13ef8ccd0>,\n",
              " 'grieve': <gensim.models.keyedvectors.Vocab at 0x13ef8cd10>,\n",
              " 'cowrote': <gensim.models.keyedvectors.Vocab at 0x13ef8cd50>,\n",
              " 'hadnt': <gensim.models.keyedvectors.Vocab at 0x13ef8cd90>,\n",
              " 'disappointingly': <gensim.models.keyedvectors.Vocab at 0x13ef8cdd0>,\n",
              " 'predict': <gensim.models.keyedvectors.Vocab at 0x13ef8ce10>,\n",
              " 'three': <gensim.models.keyedvectors.Vocab at 0x13ef8ce50>,\n",
              " 'atypical': <gensim.models.keyedvectors.Vocab at 0x13ef8ce90>,\n",
              " 'studio': <gensim.models.keyedvectors.Vocab at 0x13ef8ced0>,\n",
              " 'heart': <gensim.models.keyedvectors.Vocab at 0x13ef8cf10>,\n",
              " 'standard': <gensim.models.keyedvectors.Vocab at 0x13ef8cf50>,\n",
              " 'formulaic': <gensim.models.keyedvectors.Vocab at 0x13ef8cf90>,\n",
              " 'manipulative': <gensim.models.keyedvectors.Vocab at 0x13ef8cfd0>,\n",
              " 'nonsense': <gensim.models.keyedvectors.Vocab at 0x13f7a2050>,\n",
              " 'cheap': <gensim.models.keyedvectors.Vocab at 0x13f7a2090>,\n",
              " 'corny': <gensim.models.keyedvectors.Vocab at 0x13f7a20d0>,\n",
              " 'boring': <gensim.models.keyedvectors.Vocab at 0x13f7a2110>,\n",
              " 'slow': <gensim.models.keyedvectors.Vocab at 0x13f7a2150>,\n",
              " 'pace': <gensim.models.keyedvectors.Vocab at 0x13f7a2190>,\n",
              " 'early': <gensim.models.keyedvectors.Vocab at 0x13f7a21d0>,\n",
              " 'horror': <gensim.models.keyedvectors.Vocab at 0x13f7a2210>,\n",
              " 'rent': <gensim.models.keyedvectors.Vocab at 0x13f7a2250>,\n",
              " 'sense': <gensim.models.keyedvectors.Vocab at 0x13f7a2290>,\n",
              " 'family': <gensim.models.keyedvectors.Vocab at 0x13f7a22d0>,\n",
              " 'wood': <gensim.models.keyedvectors.Vocab at 0x13f7a2310>,\n",
              " 'invite': <gensim.models.keyedvectors.Vocab at 0x13f7a2350>,\n",
              " 'son': <gensim.models.keyedvectors.Vocab at 0x13f7a2390>,\n",
              " 'wife': <gensim.models.keyedvectors.Vocab at 0x13f7a23d0>,\n",
              " 'daughter': <gensim.models.keyedvectors.Vocab at 0x13f7a2410>,\n",
              " 'holiday': <gensim.models.keyedvectors.Vocab at 0x13f7a2450>,\n",
              " 'mother': <gensim.models.keyedvectors.Vocab at 0x13f7a2490>,\n",
              " 'law': <gensim.models.keyedvectors.Vocab at 0x13f7a24d0>,\n",
              " 'along': <gensim.models.keyedvectors.Vocab at 0x13f7a2510>,\n",
              " 'till': <gensim.models.keyedvectors.Vocab at 0x13f7a2550>,\n",
              " 'form': <gensim.models.keyedvectors.Vocab at 0x13f7a2590>,\n",
              " 'esp': <gensim.models.keyedvectors.Vocab at 0x13f7a25d0>,\n",
              " 'flashback': <gensim.models.keyedvectors.Vocab at 0x13f7a2610>,\n",
              " 'catastrophe': <gensim.models.keyedvectors.Vocab at 0x13f7a2650>,\n",
              " 'unfortunate': <gensim.models.keyedvectors.Vocab at 0x13f7a2690>,\n",
              " 'clue': <gensim.models.keyedvectors.Vocab at 0x13f7a26d0>,\n",
              " 'bright': <gensim.models.keyedvectors.Vocab at 0x13f7a2710>,\n",
              " 'light': <gensim.models.keyedvectors.Vocab at 0x13f7a2750>,\n",
              " 'signal': <gensim.models.keyedvectors.Vocab at 0x13f7a2790>,\n",
              " 'approach': <gensim.models.keyedvectors.Vocab at 0x13f7a27d0>,\n",
              " 'interpretation': <gensim.models.keyedvectors.Vocab at 0x13f7a2810>,\n",
              " 'darth': <gensim.models.keyedvectors.Vocab at 0x13f7a2850>,\n",
              " 'vadar': <gensim.models.keyedvectors.Vocab at 0x13f7a2890>,\n",
              " 'voice': <gensim.models.keyedvectors.Vocab at 0x13f7a28d0>,\n",
              " 'steal': <gensim.models.keyedvectors.Vocab at 0x13f7a2910>,\n",
              " 'various': <gensim.models.keyedvectors.Vocab at 0x13f7a2950>,\n",
              " 'finally': <gensim.models.keyedvectors.Vocab at 0x13f7a2990>,\n",
              " 'find': <gensim.models.keyedvectors.Vocab at 0x13f7a29d0>,\n",
              " 'killer': <gensim.models.keyedvectors.Vocab at 0x13f7a2a10>,\n",
              " 'turn': <gensim.models.keyedvectors.Vocab at 0x13f7a2a50>,\n",
              " 'kind': <gensim.models.keyedvectors.Vocab at 0x13f7a2a90>,\n",
              " 'japanese': <gensim.models.keyedvectors.Vocab at 0x13f7a2ad0>,\n",
              " 'warrior': <gensim.models.keyedvectors.Vocab at 0x13f7a2b10>,\n",
              " 'apparently': <gensim.models.keyedvectors.Vocab at 0x13f7a2b50>,\n",
              " 'back': <gensim.models.keyedvectors.Vocab at 0x13f7a2b90>,\n",
              " 'claim': <gensim.models.keyedvectors.Vocab at 0x13f7a2bd0>,\n",
              " 'front': <gensim.models.keyedvectors.Vocab at 0x13f7a2c10>,\n",
              " 'living': <gensim.models.keyedvectors.Vocab at 0x13f7a2c50>,\n",
              " 'shake': <gensim.models.keyedvectors.Vocab at 0x13f7a2c90>,\n",
              " 'hand': <gensim.models.keyedvectors.Vocab at 0x13f7a2cd0>,\n",
              " 'shes': <gensim.models.keyedvectors.Vocab at 0x13f7a2d10>,\n",
              " 'convulsion': <gensim.models.keyedvectors.Vocab at 0x13f7a2d50>,\n",
              " 'pathetic': <gensim.models.keyedvectors.Vocab at 0x13f7a2d90>,\n",
              " 'avoid': <gensim.models.keyedvectors.Vocab at 0x13f7a2dd0>,\n",
              " 'worth': <gensim.models.keyedvectors.Vocab at 0x13f7a2e10>,\n",
              " 'miniseries': <gensim.models.keyedvectors.Vocab at 0x13f7a2e50>,\n",
              " 'civil': <gensim.models.keyedvectors.Vocab at 0x13f7a2e90>,\n",
              " 'tell': <gensim.models.keyedvectors.Vocab at 0x13f7a2ed0>,\n",
              " 'friendship': <gensim.models.keyedvectors.Vocab at 0x13f7a2f10>,\n",
              " 'divide': <gensim.models.keyedvectors.Vocab at 0x13f7a2f50>,\n",
              " 'costume': <gensim.models.keyedvectors.Vocab at 0x13f7a2f90>,\n",
              " 'jump': <gensim.models.keyedvectors.Vocab at 0x13f7a2fd0>,\n",
              " 'keep': <gensim.models.keyedvectors.Vocab at 0x13f7a5050>,\n",
              " 'guess': <gensim.models.keyedvectors.Vocab at 0x13f7a5090>,\n",
              " 'whats': <gensim.models.keyedvectors.Vocab at 0x13f7a50d0>,\n",
              " 'balance': <gensim.models.keyedvectors.Vocab at 0x13f7a5110>,\n",
              " 'opinion': <gensim.models.keyedvectors.Vocab at 0x13f7a5150>,\n",
              " 'despicable': <gensim.models.keyedvectors.Vocab at 0x13f7a5190>,\n",
              " 'last': <gensim.models.keyedvectors.Vocab at 0x13f7a51d0>,\n",
              " 'curse': <gensim.models.keyedvectors.Vocab at 0x13f7a5210>,\n",
              " 'engage': <gensim.models.keyedvectors.Vocab at 0x13f7a5250>,\n",
              " 'advise': <gensim.models.keyedvectors.Vocab at 0x13f7a5290>,\n",
              " 'third': <gensim.models.keyedvectors.Vocab at 0x13f7a52d0>,\n",
              " 'series': <gensim.models.keyedvectors.Vocab at 0x13f7a5310>,\n",
              " 'let': <gensim.models.keyedvectors.Vocab at 0x13f7a5350>,\n",
              " 'compare': <gensim.models.keyedvectors.Vocab at 0x13f7a5390>,\n",
              " 'return': <gensim.models.keyedvectors.Vocab at 0x13f7a53d0>,\n",
              " 'wish': <gensim.models.keyedvectors.Vocab at 0x13f7a5410>,\n",
              " 'remember': <gensim.models.keyedvectors.Vocab at 0x13f7a5450>,\n",
              " 'prefer': <gensim.models.keyedvectors.Vocab at 0x13f7a5490>,\n",
              " 'live': <gensim.models.keyedvectors.Vocab at 0x13f7a54d0>,\n",
              " 'second': <gensim.models.keyedvectors.Vocab at 0x13f7a5510>,\n",
              " 'happy': <gensim.models.keyedvectors.Vocab at 0x13f7a5550>,\n",
              " 'elvira': <gensim.models.keyedvectors.Vocab at 0x13f7a5590>,\n",
              " 'mistress': <gensim.models.keyedvectors.Vocab at 0x13f7a55d0>,\n",
              " 'james': <gensim.models.keyedvectors.Vocab at 0x13f7a5610>,\n",
              " 'cassandra': <gensim.models.keyedvectors.Vocab at 0x13f7a5650>,\n",
              " 'peterson': <gensim.models.keyedvectors.Vocab at 0x13f7a5690>,\n",
              " 'morgan': <gensim.models.keyedvectors.Vocab at 0x13f7a56d0>,\n",
              " 'sheppard': <gensim.models.keyedvectors.Vocab at 0x13f7a5710>,\n",
              " 'daniel': <gensim.models.keyedvectors.Vocab at 0x13f7a5750>,\n",
              " 'greene': <gensim.models.keyedvectors.Vocab at 0x13f7a5790>,\n",
              " 'edie': <gensim.models.keyedvectors.Vocab at 0x13f7a57d0>,\n",
              " 'quits': <gensim.models.keyedvectors.Vocab at 0x13f7a5810>,\n",
              " 'head': <gensim.models.keyedvectors.Vocab at 0x13f7a5850>,\n",
              " 'small': <gensim.models.keyedvectors.Vocab at 0x13f7a5890>,\n",
              " 'christian': <gensim.models.keyedvectors.Vocab at 0x13f7a58d0>,\n",
              " 'town': <gensim.models.keyedvectors.Vocab at 0x13f7a5910>,\n",
              " 'fallwell': <gensim.models.keyedvectors.Vocab at 0x13f7a5950>,\n",
              " 'massachusettes': <gensim.models.keyedvectors.Vocab at 0x13f7a5990>,\n",
              " 'collect': <gensim.models.keyedvectors.Vocab at 0x13f7a59d0>,\n",
              " 'dead': <gensim.models.keyedvectors.Vocab at 0x13f7a5a10>,\n",
              " 'aunt': <gensim.models.keyedvectors.Vocab at 0x13f7a5a50>,\n",
              " 'inheritance': <gensim.models.keyedvectors.Vocab at 0x13f7a5a90>,\n",
              " 'hop': <gensim.models.keyedvectors.Vocab at 0x13f7a5ad0>,\n",
              " 'buck': <gensim.models.keyedvectors.Vocab at 0x13f7a5b10>,\n",
              " 'open': <gensim.models.keyedvectors.Vocab at 0x13f7a5b50>,\n",
              " 'vega': <gensim.models.keyedvectors.Vocab at 0x13f7a5b90>,\n",
              " 'unfortunately': <gensim.models.keyedvectors.Vocab at 0x13f7a5bd0>,\n",
              " 'creepy': <gensim.models.keyedvectors.Vocab at 0x13f7a5c10>,\n",
              " 'old': <gensim.models.keyedvectors.Vocab at 0x13f7a5c50>,\n",
              " 'house': <gensim.models.keyedvectors.Vocab at 0x13f7a5c90>,\n",
              " 'poodle': <gensim.models.keyedvectors.Vocab at 0x13f7a5cd0>,\n",
              " 'magic': <gensim.models.keyedvectors.Vocab at 0x13f7a5d10>,\n",
              " 'cookbook': <gensim.models.keyedvectors.Vocab at 0x13f7a5d50>,\n",
              " 'breathe': <gensim.models.keyedvectors.Vocab at 0x13f7a5d90>,\n",
              " 'teenager': <gensim.models.keyedvectors.Vocab at 0x13f7a5dd0>,\n",
              " 'win': <gensim.models.keyedvectors.Vocab at 0x13f7a5e10>,\n",
              " 'stud': <gensim.models.keyedvectors.Vocab at 0x13f7a5e50>,\n",
              " 'burn': <gensim.models.keyedvectors.Vocab at 0x13f7a5e90>,\n",
              " 'stake': <gensim.models.keyedvectors.Vocab at 0x13f7a5ed0>,\n",
              " 'uncle': <gensim.models.keyedvectors.Vocab at 0x13f7a5f10>,\n",
              " 'planning': <gensim.models.keyedvectors.Vocab at 0x13f7a5f50>,\n",
              " 'alterego': <gensim.models.keyedvectors.Vocab at 0x13f7a5f90>,\n",
              " 'successful': <gensim.models.keyedvectors.Vocab at 0x13f7a5fd0>,\n",
              " 'woman': <gensim.models.keyedvectors.Vocab at 0x13f7a8050>,\n",
              " 'plus': <gensim.models.keyedvectors.Vocab at 0x13f7a8090>,\n",
              " 'morbid': <gensim.models.keyedvectors.Vocab at 0x13f7a80d0>,\n",
              " 'hilariously': <gensim.models.keyedvectors.Vocab at 0x13f7a8110>,\n",
              " 'naive': <gensim.models.keyedvectors.Vocab at 0x13f7a8150>,\n",
              " 'amaze': <gensim.models.keyedvectors.Vocab at 0x13f7a8190>,\n",
              " 'pair': <gensim.models.keyedvectors.Vocab at 0x13f7a81d0>,\n",
              " 'knocker': <gensim.models.keyedvectors.Vocab at 0x13f7a8210>,\n",
              " 'charm': <gensim.models.keyedvectors.Vocab at 0x13f7a8250>,\n",
              " 'usei': <gensim.models.keyedvectors.Vocab at 0x13f7a8290>,\n",
              " 'whole': <gensim.models.keyedvectors.Vocab at 0x13f7a82d0>,\n",
              " 'fish': <gensim.models.keyedvectors.Vocab at 0x13f7a8310>,\n",
              " 'water': <gensim.models.keyedvectors.Vocab at 0x13f7a8350>,\n",
              " 'lowcut': <gensim.models.keyedvectors.Vocab at 0x13f7a8390>,\n",
              " 'black': <gensim.models.keyedvectors.Vocab at 0x13f7a83d0>,\n",
              " 'hair': <gensim.models.keyedvectors.Vocab at 0x13f7a8410>,\n",
              " 'enormous': <gensim.models.keyedvectors.Vocab at 0x13f7a8450>,\n",
              " 'twin': <gensim.models.keyedvectors.Vocab at 0x13f7a8490>,\n",
              " 'arent': <gensim.models.keyedvectors.Vocab at 0x13f7a84d0>,\n",
              " 'allow': <gensim.models.keyedvectors.Vocab at 0x13f7a8510>,\n",
              " 'wear': <gensim.models.keyedvectors.Vocab at 0x13f7a8550>,\n",
              " 'makeup': <gensim.models.keyedvectors.Vocab at 0x13f7a8590>,\n",
              " 'bob': <gensim.models.keyedvectors.Vocab at 0x13f7a85d0>,\n",
              " 'lot': <gensim.models.keyedvectors.Vocab at 0x13f7a8610>,\n",
              " 'equally': <gensim.models.keyedvectors.Vocab at 0x13f7a8650>,\n",
              " 'elviras': <gensim.models.keyedvectors.Vocab at 0x13f7a8690>,\n",
              " 'vincent': <gensim.models.keyedvectors.Vocab at 0x13f7a86d0>,\n",
              " 'presence': <gensim.models.keyedvectors.Vocab at 0x13f7a8710>,\n",
              " 'everything': <gensim.models.keyedvectors.Vocab at 0x13f7a8750>,\n",
              " 'boob': <gensim.models.keyedvectors.Vocab at 0x13f7a8790>,\n",
              " 'spoof': <gensim.models.keyedvectors.Vocab at 0x13f7a87d0>,\n",
              " 'scary': <gensim.models.keyedvectors.Vocab at 0x13f7a8810>,\n",
              " 'sequel': <gensim.models.keyedvectors.Vocab at 0x13f7a8850>,\n",
              " 'roger': <gensim.models.keyedvectors.Vocab at 0x13f7a8890>,\n",
              " 'corman': <gensim.models.keyedvectors.Vocab at 0x13f7a88d0>,\n",
              " 'bhorror': <gensim.models.keyedvectors.Vocab at 0x13f7a8910>,\n",
              " 'flick': <gensim.models.keyedvectors.Vocab at 0x13f7a8950>,\n",
              " 'filmif': <gensim.models.keyedvectors.Vocab at 0x13f7a8990>,\n",
              " 'check': <gensim.models.keyedvectors.Vocab at 0x13f7a89d0>,\n",
              " 'haunt': <gensim.models.keyedvectors.Vocab at 0x13f7a8a10>,\n",
              " 'hill': <gensim.models.keyedvectors.Vocab at 0x13f7a8a50>,\n",
              " 'knowledge': <gensim.models.keyedvectors.Vocab at 0x13f7a8a90>,\n",
              " 'author': <gensim.models.keyedvectors.Vocab at 0x13f7a8ad0>,\n",
              " 'phillipa': <gensim.models.keyedvectors.Vocab at 0x13f7a8b10>,\n",
              " 'pearce': <gensim.models.keyedvectors.Vocab at 0x13f7a8b50>,\n",
              " 'novel': <gensim.models.keyedvectors.Vocab at 0x13f7a8b90>,\n",
              " 'tom': <gensim.models.keyedvectors.Vocab at 0x13f7a8bd0>,\n",
              " 'midnight': <gensim.models.keyedvectors.Vocab at 0x13f7a8c10>,\n",
              " 'garden': <gensim.models.keyedvectors.Vocab at 0x13f7a8c50>,\n",
              " 'typical': <gensim.models.keyedvectors.Vocab at 0x13f7a8c90>,\n",
              " 'child': <gensim.models.keyedvectors.Vocab at 0x13f7a8cd0>,\n",
              " 'interested': <gensim.models.keyedvectors.Vocab at 0x13f7a8d10>,\n",
              " 'unless': <gensim.models.keyedvectors.Vocab at 0x13f7a8d50>,\n",
              " 'monster': <gensim.models.keyedvectors.Vocab at 0x13f7a8d90>,\n",
              " 'high': <gensim.models.keyedvectors.Vocab at 0x13f7a8dd0>,\n",
              " 'body': <gensim.models.keyedvectors.Vocab at 0x13f7a8e10>,\n",
              " 'count': <gensim.models.keyedvectors.Vocab at 0x13f7a8e50>,\n",
              " 'judging': <gensim.models.keyedvectors.Vocab at 0x13f7a8e90>,\n",
              " 'version': <gensim.models.keyedvectors.Vocab at 0x13f7a8ed0>,\n",
              " 'writes': <gensim.models.keyedvectors.Vocab at 0x13f7a8f10>,\n",
              " 'middle': <gensim.models.keyedvectors.Vocab at 0x13f7a8f50>,\n",
              " 'class': <gensim.models.keyedvectors.Vocab at 0x13f7a8f90>,\n",
              " 'kid': <gensim.models.keyedvectors.Vocab at 0x13f7a8fd0>,\n",
              " ...}"
            ]
          },
          "metadata": {
            "tags": []
          },
          "execution_count": 15
        }
      ]
    },
    {
      "cell_type": "markdown",
      "metadata": {
        "colab_type": "text",
        "id": "pBZgQNb8MXc8"
      },
      "source": [
        "#### Using Pre-trained Word2Vec model\n",
        "\n"
      ]
    },
    {
      "cell_type": "code",
      "metadata": {
        "colab_type": "code",
        "id": "2r9ViJq7MXc8",
        "colab": {}
      },
      "source": [
        "pre_trained_model = KeyedVectors.load_word2vec_format(\"GoogleNews-vectors-negative300.bin\",binary=True)"
      ],
      "execution_count": null,
      "outputs": []
    },
    {
      "cell_type": "markdown",
      "metadata": {
        "colab_type": "text",
        "id": "C1wr7ok7MXc_"
      },
      "source": [
        "#### Feature encoding based on Word2Vec vocabulary\n",
        "\n",
        "<ul>\n",
        "    <li> Mean </li>\n",
        "    <li> TF-IDF </li>\n",
        "</ul>\n",
        "\n"
      ]
    },
    {
      "cell_type": "code",
      "metadata": {
        "colab_type": "code",
        "id": "pEdaYvwMMXc_",
        "colab": {}
      },
      "source": [
        "# The code to encode the features using Word2Vec is reused and modified.\n",
        "\n",
        "class MeanEmbeddingVectorizer(object):\n",
        "\n",
        "    def __init__(self, word_model,pre_trained):\n",
        "        self.pre_trained = pre_trained\n",
        "        self.word_model = word_model\n",
        "        if self.pre_trained == False:\n",
        "            self.vector_size = word_model.wv.vector_size\n",
        "        else:\n",
        "            self.vector_size = word_model.vector_size\n",
        "\n",
        "    def fit(self):  # comply with scikit-learn transformer requirement\n",
        "        return self\n",
        "\n",
        "    def transform(self, docs):  # comply with scikit-learn transformer requirement\n",
        "        doc_word_vector = self.word_average_list(docs)\n",
        "        return doc_word_vector\n",
        "\n",
        "    def word_average(self, sent):\n",
        "        \"\"\"\n",
        "        Compute average word vector for a single doc/sentence.\n",
        "\n",
        "\n",
        "        :param sent: list of sentence tokens\n",
        "        :return:\n",
        "            mean: float of averaging word vectors\n",
        "        \"\"\"\n",
        "        mean = []\n",
        "        for word in sent:\n",
        "            if self.pre_trained == False:\n",
        "                if word in self.word_model.wv.vocab:\n",
        "                    mean.append(self.word_model.wv.get_vector(word))\n",
        "            else:\n",
        "                if word in self.word_model.vocab:\n",
        "                    mean.append(self.word_model.get_vector(word))\n",
        "        if not mean:  # empty words\n",
        "            # If a text is empty, return a vector of zeros.\n",
        "            #logging.warning(\"cannot compute average owing to no vector for {}\".format(sent))\n",
        "            return np.zeros(self.vector_size)\n",
        "        else:\n",
        "            mean = np.array(mean).mean(axis=0)\n",
        "            return mean\n",
        "\n",
        "\n",
        "    def word_average_list(self, docs):\n",
        "        \"\"\"\n",
        "        Compute average word vector for multiple docs, where docs had been tokenized.\n",
        "\n",
        "        :param docs: list of sentence in list of separated tokens\n",
        "        :return:\n",
        "            array of average word vector in shape (len(docs),)\n",
        "        \"\"\"\n",
        "        return np.vstack([self.word_average(sent) for sent in docs])"
      ],
      "execution_count": null,
      "outputs": []
    },
    {
      "cell_type": "code",
      "metadata": {
        "colab_type": "code",
        "id": "dn-nSeuhMXdB",
        "colab": {}
      },
      "source": [
        "class TfidfEmbeddingVectorizer(object):\n",
        "\n",
        "    def __init__(self, word_model,pre_trained):\n",
        "        self.pre_trained = pre_trained\n",
        "        self.word_model = word_model\n",
        "        self.word_idf_weight = None\n",
        "        if self.pre_trained == False:\n",
        "            self.vector_size = word_model.wv.vector_size\n",
        "        else:\n",
        "            self.vector_size = word_model.vector_size\n",
        "\n",
        "\n",
        "\n",
        "    def fit(self, docs):  # comply with scikit-learn transformer requirement\n",
        "        \"\"\"\n",
        "        Fit in a list of docs, which had been preprocessed and tokenized,\n",
        "        such as word bi-grammed, stop-words removed, lemmatized, part of speech filtered.\n",
        "\n",
        "        Then build up a tfidf model to compute each word's idf as its weight.\n",
        "        Noted that tf weight is already involved when constructing average word vectors, and thus omitted.\n",
        "\n",
        "        :param\n",
        "            pre_processed_docs: list of docs, which are tokenized\n",
        "        :return:\n",
        "            self\n",
        "        \"\"\"\n",
        "\n",
        "        text_docs = []\n",
        "        for doc in docs:\n",
        "            text_docs.append(\" \".join(doc))\n",
        "\n",
        "        tfidf = TfidfVectorizer()\n",
        "        tfidf.fit(text_docs)  # must be list of text string\n",
        "\n",
        "        # if a word was never seen - it must be at least as infrequent\n",
        "        # as any of the known words - so the default idf is the max of\n",
        "        # known idf's\n",
        "        max_idf = max(tfidf.idf_)  # used as default value for defaultdict\n",
        "        self.word_idf_weight = defaultdict(lambda: max_idf,[(word, tfidf.idf_[i]) for word, i in tfidf.vocabulary_.items()])\n",
        "        return self\n",
        "\n",
        "\n",
        "    def transform(self, docs):  # comply with scikit-learn transformer requirement\n",
        "        doc_word_vector = self.word_average_list(docs)\n",
        "        return doc_word_vector\n",
        "\n",
        "\n",
        "    def word_average(self, sent):\n",
        "        \"\"\"\n",
        "        Compute average word vector for a single doc/sentence.\n",
        "\n",
        "\n",
        "        :param sent: list of sentence tokens\n",
        "        :return:\n",
        "        mean: float of averaging word vectors\n",
        "        \"\"\"\n",
        "\n",
        "        mean = []\n",
        "        for word in sent:\n",
        "            if self.pre_trained == False:\n",
        "                if word in self.word_model.wv.vocab:\n",
        "                    mean.append(self.word_model.wv.get_vector(word) * self.word_idf_weight[word])  # idf weighted\n",
        "            else:\n",
        "                if word in self.word_model.vocab:\n",
        "                    mean.append(self.word_model.get_vector(word) * self.word_idf_weight[word])  # idf weighted\n",
        "\n",
        "\n",
        "\n",
        "        if not mean:  # empty words\n",
        "            # If a text is empty, return a vector of zeros.\n",
        "            #logging.warning(\"cannot compute average owing to no vector for {}\".format(sent))\n",
        "            return np.zeros(self.vector_size)\n",
        "        else:\n",
        "            mean = np.array(mean).mean(axis=0)\n",
        "            return mean\n",
        "\n",
        "\n",
        "    def word_average_list(self, docs):\n",
        "        \"\"\"\n",
        "        Compute average word vector for multiple docs, where docs had been tokenized.\n",
        "\n",
        "        :param docs: list of sentence in list of separated tokens\n",
        "        :return:\n",
        "            array of average word vector in shape (len(docs),)\n",
        "        \"\"\"\n",
        "        return np.vstack([self.word_average(sent) for sent in docs])"
      ],
      "execution_count": null,
      "outputs": []
    },
    {
      "cell_type": "markdown",
      "metadata": {
        "colab_type": "text",
        "id": "1JdIrCHWMXdI"
      },
      "source": [
        "#### Model training and plots\n",
        "\n"
      ]
    },
    {
      "cell_type": "markdown",
      "metadata": {
        "colab_type": "text",
        "id": "c6EBYqOuMXdJ"
      },
      "source": [
        "I will be using below classifiers for the analysis,\n",
        "<ul>\n",
        "    <li> Logistic Regression </li>\n",
        "    <li> SVM </li>\n",
        " </ul>\n",
        " \n",
        " "
      ]
    },
    {
      "cell_type": "code",
      "metadata": {
        "colab_type": "code",
        "id": "vlku9FvsMXdJ",
        "colab": {}
      },
      "source": [
        "model_params = {\n",
        "    'svm': {\n",
        "        'model': SVC(probability=True,verbose=1),\n",
        "        'params' : {\n",
        "            'C': [1,10],\n",
        "            'kernel': ['rbf']\n",
        "        }  \n",
        "    },\n",
        "    'logistic_regression' : {\n",
        "        'model': LogisticRegression(max_iter=1000,verbose=1),\n",
        "        'params': {\n",
        "            'C': [1,10],\n",
        "        }\n",
        "    }\n",
        "}\n",
        "\n",
        "# Due to time and resource constraints I am using fewer number of hyper-parameters for the tuning "
      ],
      "execution_count": null,
      "outputs": []
    },
    {
      "cell_type": "code",
      "metadata": {
        "colab_type": "code",
        "id": "-q_p1sA2MXdK",
        "colab": {}
      },
      "source": [
        "scoring = 'f1'\n",
        "folds = KFold(n_splits=5,shuffle=True,random_state=42)"
      ],
      "execution_count": null,
      "outputs": []
    },
    {
      "cell_type": "code",
      "metadata": {
        "colab_type": "code",
        "id": "uoXCiZEoMXdL",
        "colab": {}
      },
      "source": [
        "def get_X(vocab_type):   \n",
        "    if vocab_type == \"mean_w2v\":\n",
        "        mean_vec_tr = MeanEmbeddingVectorizer(model,pre_trained = False)\n",
        "        X = mean_vec_tr.transform(data_proc_w2v)\n",
        "        return X\n",
        " \n",
        "        \n",
        "    elif vocab_type == \"tfidf_w2v\":\n",
        "        tfidf_vec_tr = TfidfEmbeddingVectorizer(model,pre_trained = False)\n",
        "        tfidf_vec_tr.fit(data_proc_w2v)  # fit tfidf model first\n",
        "        X = tfidf_vec_tr.transform(data_proc_w2v)\n",
        "        return X\n",
        "        \n",
        "    elif vocab_type == \"pre_mean_w2v\":        \n",
        "        pre_mean_vec_tr = MeanEmbeddingVectorizer(pre_trained_model,pre_trained = True)\n",
        "        X = pre_mean_vec_tr.transform(data_proc_w2v)\n",
        "        return X\n",
        "\n",
        "        \n",
        "    elif vocab_type == \"pre_tfidf_w2v\":\n",
        "        pre_tfidf_vec_tr = TfidfEmbeddingVectorizer(pre_trained_model,pre_trained = True)\n",
        "        pre_tfidf_vec_tr.fit(data_proc_w2v)  # fit tfidf model first\n",
        "        X = pre_tfidf_vec_tr.transform(data_proc_w2v)\n",
        "        return X\n",
        "    \n",
        "    else:\n",
        "        print(\"Invalid\")\n",
        "    \n",
        "    return\n",
        "        \n",
        "   "
      ],
      "execution_count": null,
      "outputs": []
    },
    {
      "cell_type": "code",
      "metadata": {
        "colab_type": "code",
        "id": "RutgKyA-MXdO",
        "colab": {}
      },
      "source": [
        "def fit(X,y,model_params,scoring,folds):\n",
        "    scores = []\n",
        "    for model_name, mp in model_params.items():\n",
        "        clf =  GridSearchCV(mp['model'], mp['params'], return_train_score=False,scoring=scoring,cv=folds)\n",
        "        clf.fit(X, y)\n",
        "        scores.append({\n",
        "            'model': model_name,\n",
        "            'best_score': clf.best_score_,\n",
        "            'best_params': clf.best_params_,\n",
        "            'best_estimator':clf.best_estimator_\n",
        "        })\n",
        "    df = pd.DataFrame(scores,columns=['model','best_score','best_params','best_estimator'])\n",
        "    best_score = max(df['best_score'])\n",
        "    best_clf = df['best_estimator'][df['best_score'].argmax()]\n",
        "    return best_clf,df\n",
        "    \n",
        "    "
      ],
      "execution_count": null,
      "outputs": []
    },
    {
      "cell_type": "code",
      "metadata": {
        "colab_type": "code",
        "id": "b3pnNUQZMXde",
        "colab": {}
      },
      "source": [
        "# Mean of vector representation\n",
        "def fit_mean_w2v():\n",
        "    X  = get_X(\"mean_w2v\")\n",
        "    print(\"Train data shape(Mean W2V): \",X.shape)\n",
        "    clf_mean_w2v, df_mean_w2v= fit(X,y_train,model_params,scoring,folds)\n",
        "    mean_w2v_clf_name = df_mean_w2v['model'][df_mean_w2v['best_score'].argmax()]\n",
        "    return X,clf_mean_w2v, df_mean_w2v,mean_w2v_clf_name\n",
        "\n"
      ],
      "execution_count": null,
      "outputs": []
    },
    {
      "cell_type": "code",
      "metadata": {
        "colab_type": "code",
        "id": "RKbAFUAiMXdg",
        "colab": {
          "base_uri": "https://localhost:8080/",
          "height": 238
        },
        "outputId": "550256b3-f1a5-4fce-8f05-4f3127e16f6d"
      },
      "source": [
        "X,clf_mean_w2v, df_mean_w2v,mean_w2v_clf_name = fit_mean_w2v()"
      ],
      "execution_count": null,
      "outputs": [
        {
          "output_type": "stream",
          "text": [
            "Train data shape(Mean W2V):  (40000, 300)\n",
            "[LibSVM][LibSVM][LibSVM][LibSVM][LibSVM][LibSVM][LibSVM][LibSVM][LibSVM][LibSVM][LibSVM]"
          ],
          "name": "stdout"
        },
        {
          "output_type": "stream",
          "text": [
            "[Parallel(n_jobs=1)]: Using backend SequentialBackend with 1 concurrent workers.\n",
            "[Parallel(n_jobs=1)]: Done   1 out of   1 | elapsed:    1.9s finished\n",
            "[Parallel(n_jobs=1)]: Using backend SequentialBackend with 1 concurrent workers.\n",
            "[Parallel(n_jobs=1)]: Done   1 out of   1 | elapsed:    1.6s finished\n",
            "[Parallel(n_jobs=1)]: Using backend SequentialBackend with 1 concurrent workers.\n",
            "[Parallel(n_jobs=1)]: Done   1 out of   1 | elapsed:    2.0s finished\n",
            "[Parallel(n_jobs=1)]: Using backend SequentialBackend with 1 concurrent workers.\n",
            "[Parallel(n_jobs=1)]: Done   1 out of   1 | elapsed:    1.7s finished\n",
            "[Parallel(n_jobs=1)]: Using backend SequentialBackend with 1 concurrent workers.\n",
            "[Parallel(n_jobs=1)]: Done   1 out of   1 | elapsed:    1.6s finished\n",
            "[Parallel(n_jobs=1)]: Using backend SequentialBackend with 1 concurrent workers.\n",
            "[Parallel(n_jobs=1)]: Done   1 out of   1 | elapsed:    1.9s finished\n",
            "[Parallel(n_jobs=1)]: Using backend SequentialBackend with 1 concurrent workers.\n",
            "[Parallel(n_jobs=1)]: Done   1 out of   1 | elapsed:    2.0s finished\n",
            "[Parallel(n_jobs=1)]: Using backend SequentialBackend with 1 concurrent workers.\n",
            "[Parallel(n_jobs=1)]: Done   1 out of   1 | elapsed:    1.9s finished\n",
            "[Parallel(n_jobs=1)]: Using backend SequentialBackend with 1 concurrent workers.\n",
            "[Parallel(n_jobs=1)]: Done   1 out of   1 | elapsed:    1.9s finished\n",
            "[Parallel(n_jobs=1)]: Using backend SequentialBackend with 1 concurrent workers.\n",
            "[Parallel(n_jobs=1)]: Done   1 out of   1 | elapsed:    1.6s finished\n",
            "[Parallel(n_jobs=1)]: Using backend SequentialBackend with 1 concurrent workers.\n",
            "[Parallel(n_jobs=1)]: Done   1 out of   1 | elapsed:    2.1s finished\n"
          ],
          "name": "stderr"
        }
      ]
    },
    {
      "cell_type": "code",
      "metadata": {
        "colab_type": "code",
        "id": "JQKEQI21YSr4",
        "colab": {
          "base_uri": "https://localhost:8080/",
          "height": 111
        },
        "outputId": "b6d4bd88-642f-4b6d-e9b0-452be2559942"
      },
      "source": [
        "df_mean_w2v"
      ],
      "execution_count": null,
      "outputs": [
        {
          "output_type": "execute_result",
          "data": {
            "text/html": [
              "<div>\n",
              "<style scoped>\n",
              "    .dataframe tbody tr th:only-of-type {\n",
              "        vertical-align: middle;\n",
              "    }\n",
              "\n",
              "    .dataframe tbody tr th {\n",
              "        vertical-align: top;\n",
              "    }\n",
              "\n",
              "    .dataframe thead th {\n",
              "        text-align: right;\n",
              "    }\n",
              "</style>\n",
              "<table border=\"1\" class=\"dataframe\">\n",
              "  <thead>\n",
              "    <tr style=\"text-align: right;\">\n",
              "      <th></th>\n",
              "      <th>model</th>\n",
              "      <th>best_score</th>\n",
              "      <th>best_params</th>\n",
              "      <th>best_estimator</th>\n",
              "    </tr>\n",
              "  </thead>\n",
              "  <tbody>\n",
              "    <tr>\n",
              "      <th>0</th>\n",
              "      <td>svm</td>\n",
              "      <td>0.889880</td>\n",
              "      <td>{'C': 1, 'kernel': 'rbf'}</td>\n",
              "      <td>SVC(C=1, probability=True, verbose=1)</td>\n",
              "    </tr>\n",
              "    <tr>\n",
              "      <th>1</th>\n",
              "      <td>logistic_regression</td>\n",
              "      <td>0.883095</td>\n",
              "      <td>{'C': 1}</td>\n",
              "      <td>LogisticRegression(C=1, max_iter=1000, verbose=1)</td>\n",
              "    </tr>\n",
              "  </tbody>\n",
              "</table>\n",
              "</div>"
            ],
            "text/plain": [
              "                 model  best_score                best_params  \\\n",
              "0                  svm    0.889880  {'C': 1, 'kernel': 'rbf'}   \n",
              "1  logistic_regression    0.883095                   {'C': 1}   \n",
              "\n",
              "                                      best_estimator  \n",
              "0              SVC(C=1, probability=True, verbose=1)  \n",
              "1  LogisticRegression(C=1, max_iter=1000, verbose=1)  "
            ]
          },
          "metadata": {
            "tags": []
          },
          "execution_count": 25
        }
      ]
    },
    {
      "cell_type": "code",
      "metadata": {
        "colab_type": "code",
        "id": "kR_XHmAQMXdh",
        "colab": {}
      },
      "source": [
        "# TF-IDF of vector representation\n",
        "def fit_tfidf_w2v():\n",
        "    X  = get_X(\"tfidf_w2v\")\n",
        "    print(\"Train data shape(TFIDF W2V): \",X.shape)\n",
        "    clf_tfidf_w2v, df_tfidf_w2v = fit(X,y_train,model_params,scoring,folds)\n",
        "    tfidf_w2v_clf_name = df_tfidf_w2v['model'][df_tfidf_w2v['best_score'].argmax()]\n",
        "    return X,clf_tfidf_w2v, df_tfidf_w2v,tfidf_w2v_clf_name \n",
        "\n"
      ],
      "execution_count": null,
      "outputs": []
    },
    {
      "cell_type": "code",
      "metadata": {
        "colab_type": "code",
        "id": "9NgF_CZBMXdi",
        "colab": {
          "base_uri": "https://localhost:8080/",
          "height": 238
        },
        "outputId": "dd264b9a-5a8e-4af2-d06f-e41220aa1a01"
      },
      "source": [
        "X,clf_tfidf_w2v, df_tfidf_w2v,tfidf_w2v_clf_name  = fit_tfidf_w2v()"
      ],
      "execution_count": null,
      "outputs": [
        {
          "output_type": "stream",
          "text": [
            "Train data shape(TFIDF W2V):  (40000, 300)\n",
            "[LibSVM][LibSVM][LibSVM][LibSVM][LibSVM][LibSVM][LibSVM][LibSVM][LibSVM][LibSVM][LibSVM]"
          ],
          "name": "stdout"
        },
        {
          "output_type": "stream",
          "text": [
            "[Parallel(n_jobs=1)]: Using backend SequentialBackend with 1 concurrent workers.\n",
            "[Parallel(n_jobs=1)]: Done   1 out of   1 | elapsed:    0.7s finished\n",
            "[Parallel(n_jobs=1)]: Using backend SequentialBackend with 1 concurrent workers.\n",
            "[Parallel(n_jobs=1)]: Done   1 out of   1 | elapsed:    0.6s finished\n",
            "[Parallel(n_jobs=1)]: Using backend SequentialBackend with 1 concurrent workers.\n",
            "[Parallel(n_jobs=1)]: Done   1 out of   1 | elapsed:    1.1s finished\n",
            "[Parallel(n_jobs=1)]: Using backend SequentialBackend with 1 concurrent workers.\n",
            "[Parallel(n_jobs=1)]: Done   1 out of   1 | elapsed:    0.7s finished\n",
            "[Parallel(n_jobs=1)]: Using backend SequentialBackend with 1 concurrent workers.\n",
            "[Parallel(n_jobs=1)]: Done   1 out of   1 | elapsed:    1.1s finished\n",
            "[Parallel(n_jobs=1)]: Using backend SequentialBackend with 1 concurrent workers.\n",
            "[Parallel(n_jobs=1)]: Done   1 out of   1 | elapsed:    0.6s finished\n",
            "[Parallel(n_jobs=1)]: Using backend SequentialBackend with 1 concurrent workers.\n",
            "[Parallel(n_jobs=1)]: Done   1 out of   1 | elapsed:    0.9s finished\n",
            "[Parallel(n_jobs=1)]: Using backend SequentialBackend with 1 concurrent workers.\n",
            "[Parallel(n_jobs=1)]: Done   1 out of   1 | elapsed:    1.1s finished\n",
            "[Parallel(n_jobs=1)]: Using backend SequentialBackend with 1 concurrent workers.\n",
            "[Parallel(n_jobs=1)]: Done   1 out of   1 | elapsed:    0.6s finished\n",
            "[Parallel(n_jobs=1)]: Using backend SequentialBackend with 1 concurrent workers.\n",
            "[Parallel(n_jobs=1)]: Done   1 out of   1 | elapsed:    1.0s finished\n",
            "[Parallel(n_jobs=1)]: Using backend SequentialBackend with 1 concurrent workers.\n",
            "[Parallel(n_jobs=1)]: Done   1 out of   1 | elapsed:    0.8s finished\n"
          ],
          "name": "stderr"
        }
      ]
    },
    {
      "cell_type": "code",
      "metadata": {
        "colab_type": "code",
        "id": "Qu9HVZ37MXdj",
        "colab": {}
      },
      "source": [
        " # Pre-trained Mean of vector representation\n",
        "def fit_pre_mean_w2v():\n",
        "    X  = get_X(\"pre_mean_w2v\")\n",
        "    print(\"Train data shape(Pre-trained Mean W2V): \",X.shape)\n",
        "    clf_pre_mean_w2v, df_pre_mean_w2v = fit(X,y_train,model_params,scoring,folds)\n",
        "    pre_mean_w2v_clf_name = df_pre_mean_w2v['model'][df_pre_mean_w2v['best_score'].argmax()]\n",
        "    return X,clf_pre_mean_w2v, df_pre_mean_w2v,pre_mean_w2v_clf_name\n",
        "\n"
      ],
      "execution_count": null,
      "outputs": []
    },
    {
      "cell_type": "code",
      "metadata": {
        "colab_type": "code",
        "id": "bwOHZENVMXdk",
        "colab": {
          "base_uri": "https://localhost:8080/",
          "height": 300
        },
        "outputId": "f2c0ce2a-c512-4f1e-ffe3-9d5d661c1fd1"
      },
      "source": [
        "X,clf_pre_mean_w2v, df_pre_mean_w2v,pre_mean_w2v_clf_name = fit_pre_mean_w2v()\n",
        "\n"
      ],
      "execution_count": null,
      "outputs": [
        {
          "output_type": "stream",
          "text": [
            "Train data shape(Pre-trained Mean W2V):  (40000, 300)\n",
            "[LibSVM][LibSVM][LibSVM][LibSVM][LibSVM][LibSVM][LibSVM][LibSVM][LibSVM][LibSVM][LibSVM]"
          ],
          "name": "stdout"
        },
        {
          "output_type": "stream",
          "text": [
            "[Parallel(n_jobs=1)]: Using backend SequentialBackend with 1 concurrent workers.\n",
            "[Parallel(n_jobs=1)]: Done   1 out of   1 | elapsed:    1.3s finished\n",
            "[Parallel(n_jobs=1)]: Using backend SequentialBackend with 1 concurrent workers.\n",
            "[Parallel(n_jobs=1)]: Done   1 out of   1 | elapsed:    1.2s finished\n",
            "[Parallel(n_jobs=1)]: Using backend SequentialBackend with 1 concurrent workers.\n",
            "[Parallel(n_jobs=1)]: Done   1 out of   1 | elapsed:    0.9s finished\n",
            "[Parallel(n_jobs=1)]: Using backend SequentialBackend with 1 concurrent workers.\n",
            "[Parallel(n_jobs=1)]: Done   1 out of   1 | elapsed:    1.1s finished\n",
            "[Parallel(n_jobs=1)]: Using backend SequentialBackend with 1 concurrent workers.\n",
            "[Parallel(n_jobs=1)]: Done   1 out of   1 | elapsed:    1.0s finished\n",
            "[Parallel(n_jobs=1)]: Using backend SequentialBackend with 1 concurrent workers.\n",
            "[Parallel(n_jobs=1)]: Done   1 out of   1 | elapsed:    2.0s finished\n",
            "[Parallel(n_jobs=1)]: Using backend SequentialBackend with 1 concurrent workers.\n",
            "[Parallel(n_jobs=1)]: Done   1 out of   1 | elapsed:    1.7s finished\n",
            "[Parallel(n_jobs=1)]: Using backend SequentialBackend with 1 concurrent workers.\n",
            "[Parallel(n_jobs=1)]: Done   1 out of   1 | elapsed:    1.8s finished\n",
            "[Parallel(n_jobs=1)]: Using backend SequentialBackend with 1 concurrent workers.\n",
            "[Parallel(n_jobs=1)]: Done   1 out of   1 | elapsed:    2.0s finished\n",
            "[Parallel(n_jobs=1)]: Using backend SequentialBackend with 1 concurrent workers.\n",
            "[Parallel(n_jobs=1)]: Done   1 out of   1 | elapsed:    1.1s finished\n",
            "[Parallel(n_jobs=1)]: Using backend SequentialBackend with 1 concurrent workers.\n",
            "[Parallel(n_jobs=1)]: Done   1 out of   1 | elapsed:    2.9s finished\n"
          ],
          "name": "stderr"
        }
      ]
    },
    {
      "cell_type": "code",
      "metadata": {
        "colab_type": "code",
        "id": "l3mPc1-GMXdl",
        "colab": {}
      },
      "source": [
        "# Pre-trained TF-IDF of vector representation\n",
        "def fit_pre_tfidf_w2v():\n",
        "    X  = get_X(\"pre_tfidf_w2v\")\n",
        "    print(\"Train data shape(Pre-trained TFIDF W2V): \",X.shape)\n",
        "    clf_pre_tfidf_w2v, df_pre_tfidf_w2v = fit(X,y_train,model_params,scoring,folds)\n",
        "    pre_tfidf_w2v_clf_name = df_pre_tfidf_w2v['model'][df_pre_tfidf_w2v['best_score'].argmax()]\n",
        "    return X,clf_pre_tfidf_w2v, df_pre_tfidf_w2v,pre_tfidf_w2v_clf_name\n",
        "\n"
      ],
      "execution_count": null,
      "outputs": []
    },
    {
      "cell_type": "code",
      "metadata": {
        "colab_type": "code",
        "id": "2S1ZXihzMXdn",
        "colab": {},
        "outputId": "5eaa18f0-8061-4bad-8cbb-427cd3f7824b"
      },
      "source": [
        "X,clf_pre_tfidf_w2v, df_pre_tfidf_w2v,pre_tfidf_w2v_clf_name = fit_pre_tfidf_w2v()"
      ],
      "execution_count": null,
      "outputs": [
        {
          "output_type": "stream",
          "text": [
            "Train data shape(Pre-trained TFIDF W2V):  (40000, 300)\n",
            "[LibSVM][LibSVM][LibSVM][LibSVM][LibSVM][LibSVM][LibSVM][LibSVM][LibSVM][LibSVM][LibSVM]"
          ],
          "name": "stdout"
        },
        {
          "output_type": "stream",
          "text": [
            "[Parallel(n_jobs=1)]: Using backend SequentialBackend with 1 concurrent workers.\n",
            "[Parallel(n_jobs=1)]: Done   1 out of   1 | elapsed:    1.5s finished\n",
            "[Parallel(n_jobs=1)]: Using backend SequentialBackend with 1 concurrent workers.\n",
            "[Parallel(n_jobs=1)]: Done   1 out of   1 | elapsed:    1.5s finished\n",
            "[Parallel(n_jobs=1)]: Using backend SequentialBackend with 1 concurrent workers.\n",
            "[Parallel(n_jobs=1)]: Done   1 out of   1 | elapsed:    1.8s finished\n",
            "[Parallel(n_jobs=1)]: Using backend SequentialBackend with 1 concurrent workers.\n",
            "[Parallel(n_jobs=1)]: Done   1 out of   1 | elapsed:    1.7s finished\n",
            "[Parallel(n_jobs=1)]: Using backend SequentialBackend with 1 concurrent workers.\n",
            "[Parallel(n_jobs=1)]: Done   1 out of   1 | elapsed:    1.2s finished\n",
            "[Parallel(n_jobs=1)]: Using backend SequentialBackend with 1 concurrent workers.\n",
            "[Parallel(n_jobs=1)]: Done   1 out of   1 | elapsed:    1.5s finished\n",
            "[Parallel(n_jobs=1)]: Using backend SequentialBackend with 1 concurrent workers.\n",
            "[Parallel(n_jobs=1)]: Done   1 out of   1 | elapsed:    1.7s finished\n",
            "[Parallel(n_jobs=1)]: Using backend SequentialBackend with 1 concurrent workers.\n",
            "[Parallel(n_jobs=1)]: Done   1 out of   1 | elapsed:    1.4s finished\n",
            "[Parallel(n_jobs=1)]: Using backend SequentialBackend with 1 concurrent workers.\n",
            "[Parallel(n_jobs=1)]: Done   1 out of   1 | elapsed:    1.5s finished\n",
            "[Parallel(n_jobs=1)]: Using backend SequentialBackend with 1 concurrent workers.\n",
            "[Parallel(n_jobs=1)]: Done   1 out of   1 | elapsed:    1.7s finished\n",
            "[Parallel(n_jobs=1)]: Using backend SequentialBackend with 1 concurrent workers.\n",
            "[Parallel(n_jobs=1)]: Done   1 out of   1 | elapsed:    2.4s finished\n"
          ],
          "name": "stderr"
        }
      ]
    },
    {
      "cell_type": "markdown",
      "metadata": {
        "colab_type": "text",
        "id": "6hVGcIa2MXdo"
      },
      "source": [
        "#### The Best models comparison\n",
        "\n",
        "Making a common ground for testing on X_test."
      ]
    },
    {
      "cell_type": "code",
      "metadata": {
        "colab_type": "code",
        "id": "weWPD95wMXdo",
        "colab": {}
      },
      "source": [
        "def generate_comparison(w2v=True,pre_w2v=True,mean_w2v=True,tfidf_w2v=True,pre_mean_w2v=True,pre_tfidf_w2v=True):\n",
        "\n",
        "    all_clf = dict()\n",
        "    all_clf_names = dict()\n",
        "    all_X_test = dict()\n",
        "    auc = dict()\n",
        "\n",
        "    r_proba = [0 for _ in range(len(X_test))]\n",
        "    r_auc = roc_auc_score(y_test,r_proba)\n",
        "    print('Random (chance) Prediction: AUROC = %.3f' % (r_auc))\n",
        "    r_fpr, r_tpr, _ = roc_curve(y_test, r_proba)\n",
        "    plt.plot(r_fpr, r_tpr, linestyle='--', label='Random prediction (AUROC = %0.3f)' % r_auc)\n",
        "\n",
        "    if w2v:\n",
        "        w2v_model_vocab = model \n",
        "        w2v_test = []\n",
        "        for i in tqdm(range (0,len(X_test))):\n",
        "            w2v_test.append(gensim.utils.simple_preprocess(X_test.iloc[i]))\n",
        "    \n",
        "\n",
        "    if mean_w2v:\n",
        "        all_clf['mean_w2v'] = clf_mean_w2v\n",
        "        all_clf_names['mean_w2v'] = mean_w2v_clf_name\n",
        "        w2v_mean = MeanEmbeddingVectorizer(w2v_model_vocab,pre_trained=False)\n",
        "        mean_w2v_test = w2v_mean.transform(w2v_test)\n",
        "        all_X_test['mean_w2v'] = mean_w2v_test\n",
        "        mean_w2v_proba = clf_mean_w2v.predict_proba(mean_w2v_test)\n",
        "        mean_w2v_proba = mean_w2v_proba[:, 1]\n",
        "        mean_w2v_auc = roc_auc_score(y_test,mean_w2v_proba)\n",
        "        print('Mean W2V: AUROC = %.3f' % (mean_w2v_auc))\n",
        "        mean_w2v_fpr, mean_w2v_tpr, _ = roc_curve(y_test, mean_w2v_proba)\n",
        "        plt.plot(mean_w2v_fpr, mean_w2v_tpr, marker='.', label='Mean W2V (AUROC = %0.3f)' % mean_w2v_auc)\n",
        "        auc['mean_w2v'] = mean_w2v_auc\n",
        "        \n",
        "        \n",
        "    if tfidf_w2v:       \n",
        "        all_clf['tfidf_w2v'] = clf_tfidf_w2v\n",
        "        all_clf_names['tfidf_w2v'] = tfidf_w2v_clf_name        \n",
        "        w2v_tfid = TfidfEmbeddingVectorizer(w2v_model_vocab,pre_trained=False)\n",
        "        w2v_tfid.fit(w2v_test)\n",
        "        tfid_w2v_test = w2v_tfid.transform(w2v_test)\n",
        "        all_X_test['tfidf_w2v'] = tfid_w2v_test\n",
        "        tfidf_w2v_proba = clf_tfidf_w2v.predict_proba(tfid_w2v_test)\n",
        "        tfidf_w2v_proba = tfidf_w2v_proba[:, 1]\n",
        "        tfidf_w2v_auc = roc_auc_score(y_test,tfidf_w2v_proba)\n",
        "        print('Tfidf W2V: AUROC = %.3f' % (tfidf_w2v_auc))\n",
        "        tfidf_w2v_fpr,tfidf_w2v_tpr, _ = roc_curve(y_test,tfidf_w2v_proba)\n",
        "        plt.plot(tfidf_w2v_fpr, tfidf_w2v_tpr, marker='.', label='Tfidf W2V (AUROC = %0.3f)' % tfidf_w2v_auc)\n",
        "        auc['tfidf_w2v'] = tfidf_w2v_auc\n",
        "        \n",
        "    if pre_w2v:\n",
        "        #pre_trained_model = KeyedVectors.load_word2vec_format(\"GoogleNews-vectors-negative300.bin\",binary=True)\n",
        "        w2v_test = []\n",
        "        for i in tqdm(range (0,len(X_test))):\n",
        "            w2v_test.append(gensim.utils.simple_preprocess(X_test.iloc[i]))\n",
        "        \n",
        "    if pre_mean_w2v:\n",
        "        all_clf['pre_trained_mean_w2v'] = clf_pre_mean_w2v\n",
        "        all_clf_names['pre_trained_mean_w2v'] = pre_mean_w2v_clf_name\n",
        "        pre_w2v_mean = MeanEmbeddingVectorizer(pre_trained_model,pre_trained=True)\n",
        "        pre_mean_w2v_test = pre_w2v_mean.transform(w2v_test)\n",
        "        all_X_test['pre_trained_mean_w2v'] = pre_mean_w2v_test\n",
        "        pre_mean_w2v_proba = clf_pre_mean_w2v.predict_proba(pre_mean_w2v_test)\n",
        "        pre_mean_w2v_proba = pre_mean_w2v_proba[:, 1]\n",
        "        pre_mean_w2v_auc = roc_auc_score(y_test,pre_mean_w2v_proba)\n",
        "        print('Pre-Mean W2V: AUROC = %.3f' % (pre_mean_w2v_auc))\n",
        "        pre_mean_w2v_fpr, pre_mean_w2v_tpr, _ = roc_curve(y_test, pre_mean_w2v_proba)\n",
        "        plt.plot(pre_mean_w2v_fpr, pre_mean_w2v_tpr, marker='.', label='Pre-Mean W2V (AUROC = %0.3f)' % pre_mean_w2v_auc)\n",
        "        auc['pre_trained_mean_w2v'] = pre_mean_w2v_auc\n",
        "\n",
        "    if pre_tfidf_w2v:\n",
        "        all_clf['pre_trained_tfidf_w2v']= clf_pre_tfidf_w2v\n",
        "        all_clf_names['pre_trained_tfidf_w2v'] =pre_tfidf_w2v_clf_name\n",
        "        pre_w2v_tfid = TfidfEmbeddingVectorizer(pre_trained_model,pre_trained=True)\n",
        "        pre_w2v_tfid.fit(w2v_test)\n",
        "        pre_tfid_w2v_test = pre_w2v_tfid.transform(w2v_test)\n",
        "        all_X_test['pre_trained_tfidf_w2v'] = pre_tfid_w2v_test\n",
        "        pre_tfidf_w2v_proba = clf_pre_tfidf_w2v.predict_proba(pre_tfid_w2v_test)\n",
        "        pre_tfidf_w2v_proba = pre_tfidf_w2v_proba[:, 1]\n",
        "        pre_tfidf_w2v_auc = roc_auc_score(y_test,pre_tfidf_w2v_proba)\n",
        "        print('Pre-Tfidf W2V: AUROC = %.3f' % (pre_tfidf_w2v_auc))\n",
        "        pre_tfidf_w2v_fpr,pre_tfidf_w2v_tpr, _ = roc_curve(y_test,pre_tfidf_w2v_proba)\n",
        "        plt.plot(pre_tfidf_w2v_fpr, pre_tfidf_w2v_tpr, marker='.', label='Pre-Tfidf W2V (AUROC = %0.3f)' % pre_tfidf_w2v_auc)\n",
        "        auc['pre_trained_tfidf_w2v'] = pre_tfidf_w2v_auc\n",
        "    \n",
        "    # Title\n",
        "    plt.title('ROC Plot for classifiers trained on dataset of size '+ str(len(X_train)))\n",
        "    # Axis labels\n",
        "    plt.xlabel('False Positive Rate')\n",
        "    plt.ylabel('True Positive Rate')\n",
        "    # Show legend\n",
        "    plt.legend() # \n",
        "    # Show plot\n",
        "    plt.show()\n",
        "\n",
        "\n",
        "    best_clf_vocab = max(auc, key=auc.get)\n",
        "    best_clf = all_clf[best_clf_vocab]\n",
        "    print(\"The best performing classifier is\" ,all_clf_names[best_clf_vocab],\" on the \",best_clf_vocab,\" vocabulary\")\n",
        "    y_pred = best_clf.predict(all_X_test[best_clf_vocab])\n",
        "    print(\"Accuracy is \",accuracy_score(y_test, y_pred))\n",
        "    plot_confusion_matrix(best_clf, all_X_test[best_clf_vocab], y_test)\n",
        "    plt.show()\n",
        "    print(classification_report(y_test, y_pred, target_names=['0','1']))\n",
        "\n",
        "\n",
        "    least_clf_vocab = min(auc, key=auc.get)\n",
        "    least_clf = all_clf[least_clf_vocab]\n",
        "    print(\"The least performing classifier is\" ,all_clf_names[least_clf_vocab],\" on the\",least_clf_vocab,\"vocabulary\")\n",
        "    y_pred = least_clf.predict(all_X_test[least_clf_vocab])\n",
        "    print(\"Accuracy is \",accuracy_score(y_test, y_pred))\n",
        "    plot_confusion_matrix(least_clf, all_X_test[least_clf_vocab], y_test)\n",
        "    plt.show()\n",
        "    print(classification_report(y_test, y_pred, target_names=['0','1']))\n",
        "\n",
        "    save_model = \"best_model_\" + all_clf_names[best_clf_vocab]+\".sav\"\n",
        "    pickle.dump(best_clf, open(save_model, 'wb'))\n",
        "    print(\"Best model is saved to the disk as \",save_model)\n",
        "\n",
        "    if best_clf_vocab == \"mean_w2v\" or best_clf_vocab == \"tfidf_w2v\":\n",
        "        model.save(\"word2vec.model\")\n",
        "        print(\"The best clf vocabulary is saved as word2vec.model\")\n",
        "    else:\n",
        "        print(\"The pre-trained w2v model is already on the disk.\")\n",
        "    \n",
        "    return best_clf_vocab,save_model"
      ],
      "execution_count": null,
      "outputs": []
    },
    {
      "cell_type": "code",
      "metadata": {
        "colab_type": "code",
        "id": "LvwjhxYSMXdu",
        "scrolled": false,
        "colab": {
          "base_uri": "https://localhost:8080/",
          "height": 1000
        },
        "outputId": "e79e3ff8-135a-48ab-8ad2-7beadfff0a6f"
      },
      "source": [
        "vocab_name, clf_name = generate_comparison()"
      ],
      "execution_count": null,
      "outputs": [
        {
          "output_type": "stream",
          "text": [
            "  5%|▌         | 538/10000 [00:00<00:01, 5379.99it/s]"
          ],
          "name": "stderr"
        },
        {
          "output_type": "stream",
          "text": [
            "Random (chance) Prediction: AUROC = 0.500\n"
          ],
          "name": "stdout"
        },
        {
          "output_type": "stream",
          "text": [
            "100%|██████████| 10000/10000 [00:01<00:00, 5860.85it/s]\n"
          ],
          "name": "stderr"
        },
        {
          "output_type": "stream",
          "text": [
            "Mean W2V: AUROC = 0.957\n"
          ],
          "name": "stdout"
        },
        {
          "output_type": "stream",
          "text": [
            "  6%|▋         | 650/10000 [00:00<00:01, 6479.48it/s]"
          ],
          "name": "stderr"
        },
        {
          "output_type": "stream",
          "text": [
            "Tfidf W2V: AUROC = 0.956\n"
          ],
          "name": "stdout"
        },
        {
          "output_type": "stream",
          "text": [
            "100%|██████████| 10000/10000 [00:01<00:00, 6030.47it/s]\n"
          ],
          "name": "stderr"
        },
        {
          "output_type": "stream",
          "text": [
            "Pre-Mean W2V: AUROC = 0.940\n",
            "Pre-Tfidf W2V: AUROC = 0.930\n"
          ],
          "name": "stdout"
        },
        {
          "output_type": "display_data",
          "data": {
            "image/png": "[encoded data removed]",
            "text/plain": [
              "<Figure size 432x288 with 1 Axes>"
            ]
          },
          "metadata": {
            "tags": [],
            "needs_background": "light"
          }
        },
        {
          "output_type": "stream",
          "text": [
            "The best performing classifier is svm  on the  mean_w2v  vocabulary\n",
            "Accuracy is  0.89\n"
          ],
          "name": "stdout"
        },
        {
          "output_type": "display_data",
          "data": {
            "image/png": "[encoded data removed]",
            "text/plain": [
              "<Figure size 432x288 with 2 Axes>"
            ]
          },
          "metadata": {
            "tags": [],
            "needs_background": "light"
          }
        },
        {
          "output_type": "stream",
          "text": [
            "              precision    recall  f1-score   support\n",
            "\n",
            "           0       0.90      0.88      0.89      4961\n",
            "           1       0.88      0.90      0.89      5039\n",
            "\n",
            "    accuracy                           0.89     10000\n",
            "   macro avg       0.89      0.89      0.89     10000\n",
            "weighted avg       0.89      0.89      0.89     10000\n",
            "\n",
            "The least performing classifier is svm  on the pre_trained_tfidf_w2v vocabulary\n",
            "Accuracy is  0.8501\n"
          ],
          "name": "stdout"
        },
        {
          "output_type": "display_data",
          "data": {
            "image/png": "[encoded data removed]",
            "text/plain": [
              "<Figure size 432x288 with 2 Axes>"
            ]
          },
          "metadata": {
            "tags": [],
            "needs_background": "light"
          }
        },
        {
          "output_type": "stream",
          "text": [
            "              precision    recall  f1-score   support\n",
            "\n",
            "           0       0.85      0.85      0.85      4961\n",
            "           1       0.85      0.85      0.85      5039\n",
            "\n",
            "    accuracy                           0.85     10000\n",
            "   macro avg       0.85      0.85      0.85     10000\n",
            "weighted avg       0.85      0.85      0.85     10000\n",
            "\n",
            "Best model is saved to the disk as  best_model_svm.sav\n",
            "The best clf vocabulary is saved as word2vec.model\n"
          ],
          "name": "stdout"
        }
      ]
    },
    {
      "cell_type": "markdown",
      "metadata": {
        "colab_type": "text",
        "id": "1NshCHnnMXdw"
      },
      "source": [
        "#### Testing sentiment with random movie review\n",
        "\n",
        "Type any random review and test\n",
        "\n"
      ]
    },
    {
      "cell_type": "code",
      "metadata": {
        "id": "HEHKvgWl6Buq",
        "colab_type": "code",
        "colab": {}
      },
      "source": [
        "clf = pickle.load(open(clf_name, 'rb'))\n",
        "\n",
        "if vocab_name == \"mean_w2v\" or vocab_name == \"pre_trained_mean_w2v\":\n",
        "    if vocab_name == \"mean_w2v\":\n",
        "        vocab = Word2Vec.load(\"word2vec.model\")\n",
        "        w2v_mean =MeanEmbeddingVectorizer(vocab,pre_trained=False)\n",
        "\n",
        "    else:\n",
        "        pre_trained_model = KeyedVectors.load_word2vec_format(\"GoogleNews-vectors-negative300.bin\",binary=True)   \n",
        "        w2v_mean = MeanEmbeddingVectorizer(pre_trained_model,pre_trained=True)\n",
        "\n",
        "elif vocab_name == \"tfidf_w2v\" or vocab_name == \"pre_trained_tfidf_w2v\":\n",
        "    if vocab_name == \"tfidf_w2v\":\n",
        "        vocab = Word2Vec.load(\"word2vec.model\")\n",
        "        w2v_tfid = TfidfEmbeddingVectorizer(vocab,pre_trained=False)\n",
        "    else:\n",
        "        pre_trained_model = KeyedVectors.load_word2vec_format(\"GoogleNews-vectors-negative300.bin\",binary=True)   \n",
        "        w2v_tfid = TfidfEmbeddingVectorizer(pre_trained_model,pre_trained=True)\n",
        "\n",
        "else:\n",
        "    print(\"Invalid Input\")\n",
        "        \n",
        "    "
      ],
      "execution_count": null,
      "outputs": []
    },
    {
      "cell_type": "code",
      "metadata": {
        "id": "QUa6_oel6But",
        "colab_type": "code",
        "colab": {}
      },
      "source": [
        "def get_rl_test_pred(processed_sentence):\n",
        "    if vocab_name == \"mean_w2v\" or vocab_name == \"pre_trained_mean_w2v\":\n",
        "        rl_test_x = []\n",
        "        rl_test_x.append(gensim.utils.simple_preprocess(processed_sentence))\n",
        "\n",
        "\n",
        "        rl_test_x = w2v_mean.transform(rl_test_x)\n",
        "        y_pred = clf.predict(rl_test_x)\n",
        "\n",
        "    elif vocab_name == \"tfidf_w2v\" or vocab_name == \"pre_trained_tfidf_w2v\":\n",
        "\n",
        "        rl_test_x = gensim.utils.simple_preprocess(processed_sentence)\n",
        "        w2v_tfid.fit([rl_test_x])\n",
        "        rl_test_x = w2v_tfid.transform([rl_test_x])\n",
        "        y_pred = clf.predict(rl_test_x)\n",
        "\n",
        "\n",
        "    else:\n",
        "        print(\"Invalid Input\")\n",
        "\n",
        "\n",
        "    if y_pred == 1:\n",
        "        print(\"It is a Positive Sentiment\")\n",
        "\n",
        "    if y_pred == 0:\n",
        "        print(\"It is a Negative Sentiment\")\n",
        "        \n",
        "    return"
      ],
      "execution_count": null,
      "outputs": []
    },
    {
      "cell_type": "code",
      "metadata": {
        "id": "Btk4logq6Buu",
        "colab_type": "code",
        "colab": {},
        "outputId": "f6cccc90-3ff2-4ca6-a68f-ee7990a66b4f"
      },
      "source": [
        "sentence = \"I love the Iron Man movie\"\n",
        "processed_sentence = pre_process(sentence)\n",
        "get_rl_test_pred(processed_sentence)"
      ],
      "execution_count": null,
      "outputs": [
        {
          "output_type": "stream",
          "text": [
            "It is a Positive Sentiment\n"
          ],
          "name": "stdout"
        }
      ]
    },
    {
      "cell_type": "code",
      "metadata": {
        "id": "rrIXFTtu6Buv",
        "colab_type": "code",
        "colab": {},
        "outputId": "07853f0e-d0ec-4fce-ca84-a9a1f27aaa1e"
      },
      "source": [
        "sentence = \"This movie is one of the awful movie ever!!!\"\n",
        "processed_sentence = pre_process(sentence)\n",
        "get_rl_test_pred(processed_sentence)"
      ],
      "execution_count": null,
      "outputs": [
        {
          "output_type": "stream",
          "text": [
            "It is a Negative Sentiment\n"
          ],
          "name": "stdout"
        }
      ]
    },
    {
      "cell_type": "markdown",
      "metadata": {
        "colab_type": "text",
        "id": "hs4NNjrjMXdy"
      },
      "source": [
        "#### Conclusion"
      ]
    },
    {
      "cell_type": "markdown",
      "metadata": {
        "id": "RQR6VeU96Bux",
        "colab_type": "text"
      },
      "source": [
        "The SVM classifier performed best on the word embeddings trained using Word2Vec on IMDB dataset using Mean scoring and there is no much difference w.r.t the scoring compared to TF-IDF. And as we can see in the ROC plot, that the AUROC for model trained on word embeddings with mean scoring is greater compared to other models.\n",
        "\n",
        "The model was trained with f1 scoring as a performance measure by giving equal importance to both the classes. Hence the obtained f1 score for both the classes is 0.89 and accuracy is also 0.89.\n",
        "\n",
        "Bag of words(BOW)  approach can also be used in generating the vocabulary, but the size of vocabulary and time for training grows larger when the dataset is large and also when using n-grams method with n > 1. We can use TF-IDF scoring for feature extraction with BOW approach, but using this method with BOW results in sparse values for large number of features. So, using word embeddings is good option.\n",
        "\n",
        "\n",
        "The performance of the model can be increased a bit more with proper hyper parameter tuning and also using word embeddings with deep learning approach will yield a good performing model.\n"
      ]
    },
    {
      "cell_type": "code",
      "metadata": {
        "colab_type": "code",
        "id": "kCy524kRMXdy",
        "colab": {}
      },
      "source": [
        ""
      ],
      "execution_count": null,
      "outputs": []
    },
    {
      "cell_type": "markdown",
      "metadata": {
        "id": "AssTJILC6Buz",
        "colab_type": "text"
      },
      "source": [
        " **The model trained using this dataset is deployed in a web app, which is developed using flask. \n",
        " Check out the sentiment analysis web app [here.](https://analyze-sentiments.herokuapp.com)**"
      ]
    },
    {
      "cell_type": "markdown",
      "metadata": {
        "colab_type": "text",
        "id": "Jc4zU-cRMXdz"
      },
      "source": [
        "#### References and Acknowledgements (**A Big Thank You** )"
      ]
    },
    {
      "cell_type": "markdown",
      "metadata": {
        "colab_type": "text",
        "id": "ms4ZpnUSMXdz"
      },
      "source": [
        "* [IMDB Dataset of 50K Movie Reviews](https://www.kaggle.com/lakshmi25npathi/imdb-dataset-of-50k-movie-reviews)\n",
        "\n",
        "* [A General Approach to Preprocessing Text Data](https://www.kdnuggets.com/2017/12/general-approach-preprocessing-text-data.html)\n",
        "\n",
        "* [NLP Text Preprocessing: A Practical Guide and Template](https://towardsdatascience.com/nlp-text-preprocessing-a-practical-guide-and-template-d80874676e79)\n",
        "\n",
        "* [Text Wrangling & Pre-processing: A Practitioner’s Guide to NLP](https://www.kdnuggets.com/2018/08/practitioners-guide-processing-understanding-text-2.html)\n",
        "\n",
        "* [Text Classification with Python and Scikit-Learn](https://stackabuse.com/text-classification-with-python-and-scikit-learn/)\n",
        "\n",
        "* [Lemmatization Approaches with Examples in Python](https://www.machinelearningplus.com/nlp/lemmatization-examples-python/)\n",
        "\n",
        "* [Building a wordcloud using a TD-IDF vectorizer on twitter data](https://hampao.wordpress.com/2016/04/08/building-a-wordcloud-using-a-td-idf-vectorizer-on-twitter-data/)\n",
        "\n",
        "* [How to list the most common words from text corpus using Scikit-Learn?](https://medium.com/@cristhianboujon/how-to-list-the-most-common-words-from-text-corpus-using-scikit-learn-dad4d0cab41d)\n",
        "\n",
        "* [A Gentle Introduction to the Bag-of-Words Model](https://machinelearningmastery.com/gentle-introduction-bag-words-model/)\n",
        "\n",
        "* [What Are Word Embeddings for Text?](https://machinelearningmastery.com/what-are-word-embeddings/)\n",
        "\n",
        "* [How to Develop Word Embeddings in Python with Gensim](https://machinelearningmastery.com/develop-word-embeddings-python-gensim/)\n",
        "\n",
        "* [Text Classification With Word2Vec](http://nadbordrozd.github.io/blog/2016/05/20/text-classification-with-word2vec/)\n",
        "\n",
        "* [Gensim Word2Vec Tutorial – Full Working Example](https://kavita-ganesan.com/gensim-word2vec-tutorial-starter-code/#.XuvyOi-w3OR)\n",
        "\n",
        "* [Word2Vec with Gensim - Python](https://www.youtube.com/watch?v=Z1VsHYcNXDI&t=362s)\n",
        "\n",
        "* [Machine Learning in Python: Making Receiver Operating Characteristic (ROC) curve](https://github.com/dataprofessor/code/blob/master/python/ROC_curve.ipynb)\n",
        "\n",
        "* [How to Use ROC Curves and Precision-Recall Curves for Classification in Python](https://machinelearningmastery.com/roc-curves-and-precision-recall-curves-for-classification-in-python/)\n",
        "\n",
        "* [Finding best model and hyper parameter tunning using GridSearchCV](https://github.com/codebasics/py/blob/master/ML/15_gridsearch/15_grid_search.ipynb)"
      ]
    },
    {
      "cell_type": "markdown",
      "metadata": {
        "id": "aCdKX8t28Rhy",
        "colab_type": "text"
      },
      "source": [
        "There is always a room for improvements and any constructive criticism is much appreciated."
      ]
    },
    {
      "cell_type": "code",
      "metadata": {
        "id": "zqC3jmQ86Bu2",
        "colab_type": "code",
        "colab": {}
      },
      "source": [
        ""
      ],
      "execution_count": null,
      "outputs": []
    }
  ]
}